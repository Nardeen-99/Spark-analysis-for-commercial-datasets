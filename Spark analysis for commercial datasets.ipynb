{
 "cells": [
  {
   "cell_type": "markdown",
   "id": "interested-settle",
   "metadata": {},
   "source": [
    "## Objective \n",
    "The objective of this project is to analyse various datasets in spark about commercial products and rating of e-commerce website NewChic.com. \n",
    "## Overview of the datasets\n",
    "For this project there are three csv files one for each product ( Shoe products, jewelry products and accessories).The datasets are available in the zip folder with th project.I advise you have the notebook and all the csv files in the same directory, so that it is easier when you are loading the csv files to pass in the csv files directly since they will be in the same directory as the notebook.<br>\n",
    "There are 22 features in each dataset. The main features are \n",
    "- Category ( men/accessory/jewelry/etc)\n",
    "- Subcategory type of catgeory\n",
    "- name of the product\n",
    "- current price ==> price listed on the website  \n",
    "- raw price ==> total price of the product before any discounts(i.e original price of the product)\n",
    "- discount\n",
    "- Currency ( currency of which the price listed in)\n",
    "- likes count ==> popularity of the product \n",
    "- isnew ==> tells whether the product is used or not (Binary value true or false)\n"
   ]
  },
  {
   "cell_type": "markdown",
   "id": "naval-regular",
   "metadata": {},
   "source": [
    "## First import the necessary packages and start your spark session"
   ]
  },
  {
   "cell_type": "code",
   "execution_count": 1,
   "id": "respiratory-persian",
   "metadata": {
    "ExecuteTime": {
     "end_time": "2023-02-04T14:54:05.886502Z",
     "start_time": "2023-02-04T14:53:56.674741Z"
    }
   },
   "outputs": [],
   "source": [
    "from pyspark import SparkConf, SparkContext\n",
    "from pyspark.sql import SparkSession\n",
    "\n",
    "spark = (SparkSession\n",
    "    .builder\n",
    "    .appName(\"Spark SQL Course\")\n",
    "    .master(\"local[*]\")\n",
    "    .getOrCreate()\n",
    ")\n",
    "sc = spark.sparkContext"
   ]
  },
  {
   "cell_type": "code",
   "execution_count": 2,
   "id": "romantic-moldova",
   "metadata": {
    "ExecuteTime": {
     "end_time": "2023-02-04T14:54:13.401662Z",
     "start_time": "2023-02-04T14:54:05.891961Z"
    }
   },
   "outputs": [],
   "source": [
    "import pyspark\n",
    "from pyspark.sql import SparkSession\n",
    "\n",
    "spark = SparkSession.builder.appName(\"answers\").getOrCreate()\n",
    "\n",
    "path_1 = [\"shoes.csv\"]\n",
    "path_2 = [\"jewelry.csv\"]\n",
    "path_3 = [\"accessories.csv\"]\n",
    "\n",
    "df_shoes = spark.read.option(\"header\",'True').option('delimiter', ',').csv(path_1)\n",
    "df_jewelry = spark.read.option(\"header\",'True').option('delimiter', ',').csv(path_2)\n",
    "df_accessories = spark.read.option(\"header\",'True').option('delimiter', ',').csv(path_3)"
   ]
  },
  {
   "cell_type": "code",
   "execution_count": 3,
   "id": "compressed-thesis",
   "metadata": {
    "ExecuteTime": {
     "end_time": "2023-02-04T14:54:13.467857Z",
     "start_time": "2023-02-04T14:54:13.404736Z"
    }
   },
   "outputs": [
    {
     "name": "stdout",
     "output_type": "stream",
     "text": [
      "root\n",
      " |-- category: string (nullable = true)\n",
      " |-- subcategory: string (nullable = true)\n",
      " |-- name: string (nullable = true)\n",
      " |-- current_price: string (nullable = true)\n",
      " |-- raw_price: string (nullable = true)\n",
      " |-- currency: string (nullable = true)\n",
      " |-- discount: string (nullable = true)\n",
      " |-- likes_count: string (nullable = true)\n",
      " |-- is_new: string (nullable = true)\n",
      " |-- brand: string (nullable = true)\n",
      " |-- brand_url: string (nullable = true)\n",
      " |-- codCountry: string (nullable = true)\n",
      " |-- variation_0_color: string (nullable = true)\n",
      " |-- variation_1_color: string (nullable = true)\n",
      " |-- variation_0_thumbnail: string (nullable = true)\n",
      " |-- variation_0_image: string (nullable = true)\n",
      " |-- variation_1_thumbnail: string (nullable = true)\n",
      " |-- variation_1_image: string (nullable = true)\n",
      " |-- image_url: string (nullable = true)\n",
      " |-- url: string (nullable = true)\n",
      " |-- id: string (nullable = true)\n",
      " |-- model: string (nullable = true)\n",
      "\n"
     ]
    }
   ],
   "source": [
    "df_shoes.printSchema()"
   ]
  },
  {
   "cell_type": "code",
   "execution_count": 4,
   "id": "cognitive-deadline",
   "metadata": {
    "ExecuteTime": {
     "end_time": "2023-02-04T14:54:13.702102Z",
     "start_time": "2023-02-04T14:54:13.476579Z"
    }
   },
   "outputs": [],
   "source": [
    "df_x = df_shoes.union(df_jewelry)"
   ]
  },
  {
   "cell_type": "code",
   "execution_count": 5,
   "id": "adjusted-baking",
   "metadata": {
    "ExecuteTime": {
     "end_time": "2023-02-04T14:54:13.868028Z",
     "start_time": "2023-02-04T14:54:13.705432Z"
    }
   },
   "outputs": [],
   "source": [
    "df = df_x.union(df_accessories)"
   ]
  },
  {
   "cell_type": "code",
   "execution_count": 6,
   "id": "right-generic",
   "metadata": {
    "ExecuteTime": {
     "end_time": "2023-02-04T14:54:17.369666Z",
     "start_time": "2023-02-04T14:54:13.871409Z"
    }
   },
   "outputs": [
    {
     "data": {
      "text/html": [
       "<div>\n",
       "<style scoped>\n",
       "    .dataframe tbody tr th:only-of-type {\n",
       "        vertical-align: middle;\n",
       "    }\n",
       "\n",
       "    .dataframe tbody tr th {\n",
       "        vertical-align: top;\n",
       "    }\n",
       "\n",
       "    .dataframe thead th {\n",
       "        text-align: right;\n",
       "    }\n",
       "</style>\n",
       "<table border=\"1\" class=\"dataframe\">\n",
       "  <thead>\n",
       "    <tr style=\"text-align: right;\">\n",
       "      <th></th>\n",
       "      <th>category</th>\n",
       "      <th>subcategory</th>\n",
       "      <th>name</th>\n",
       "      <th>current_price</th>\n",
       "      <th>raw_price</th>\n",
       "      <th>currency</th>\n",
       "      <th>discount</th>\n",
       "      <th>likes_count</th>\n",
       "      <th>is_new</th>\n",
       "      <th>brand</th>\n",
       "      <th>...</th>\n",
       "      <th>variation_0_color</th>\n",
       "      <th>variation_1_color</th>\n",
       "      <th>variation_0_thumbnail</th>\n",
       "      <th>variation_0_image</th>\n",
       "      <th>variation_1_thumbnail</th>\n",
       "      <th>variation_1_image</th>\n",
       "      <th>image_url</th>\n",
       "      <th>url</th>\n",
       "      <th>id</th>\n",
       "      <th>model</th>\n",
       "    </tr>\n",
       "  </thead>\n",
       "  <tbody>\n",
       "    <tr>\n",
       "      <th>23029</th>\n",
       "      <td>accessories</td>\n",
       "      <td>Chaussettes &amp; Collants</td>\n",
       "      <td>Summer Thin Invisible No Show Chaussettes</td>\n",
       "      <td>3.22</td>\n",
       "      <td>8.07</td>\n",
       "      <td>USD</td>\n",
       "      <td>60</td>\n",
       "      <td>52</td>\n",
       "      <td>false</td>\n",
       "      <td>None</td>\n",
       "      <td>...</td>\n",
       "      <td>blanc</td>\n",
       "      <td>Gris</td>\n",
       "      <td>https://imgaz1.chiccdn.com/thumb/list_grid/oau...</td>\n",
       "      <td>https://imgaz1.chiccdn.com/thumb/view/oaupload...</td>\n",
       "      <td>https://imgaz1.chiccdn.com/thumb/list_grid/oau...</td>\n",
       "      <td>https://imgaz1.chiccdn.com/thumb/view/oaupload...</td>\n",
       "      <td>https://imgaz1.chiccdn.com/thumb/view/oaupload...</td>\n",
       "      <td>https://fr.newchic.com/womens-socks-4128/p-145...</td>\n",
       "      <td>1456229</td>\n",
       "      <td>SKUB58875</td>\n",
       "    </tr>\n",
       "    <tr>\n",
       "      <th>23030</th>\n",
       "      <td>accessories</td>\n",
       "      <td>Beanie Hat</td>\n",
       "      <td>Tête chaude en velours Bande</td>\n",
       "      <td>6.9</td>\n",
       "      <td>16.04</td>\n",
       "      <td>USD</td>\n",
       "      <td>57</td>\n",
       "      <td>41</td>\n",
       "      <td>false</td>\n",
       "      <td>None</td>\n",
       "      <td>...</td>\n",
       "      <td>Noir</td>\n",
       "      <td>Bleu marin</td>\n",
       "      <td>https://imgaz1.chiccdn.com/thumb/list_grid/oau...</td>\n",
       "      <td>https://imgaz1.chiccdn.com/thumb/view/oaupload...</td>\n",
       "      <td>https://imgaz1.chiccdn.com/thumb/list_grid/oau...</td>\n",
       "      <td>https://imgaz1.chiccdn.com/thumb/view/oaupload...</td>\n",
       "      <td>https://imgaz1.chiccdn.com/thumb/view/oaupload...</td>\n",
       "      <td>https://fr.newchic.com/beanie-hat-12168/p-1344...</td>\n",
       "      <td>1344021</td>\n",
       "      <td>SKUA25352</td>\n",
       "    </tr>\n",
       "    <tr>\n",
       "      <th>23031</th>\n",
       "      <td>accessories</td>\n",
       "      <td>Beanie Hat</td>\n",
       "      <td>Bonnet écharpe en laine d'hiver</td>\n",
       "      <td>11.51</td>\n",
       "      <td>26.36</td>\n",
       "      <td>USD</td>\n",
       "      <td>56</td>\n",
       "      <td>22</td>\n",
       "      <td>false</td>\n",
       "      <td>None</td>\n",
       "      <td>...</td>\n",
       "      <td>rouge</td>\n",
       "      <td>Noir</td>\n",
       "      <td>https://imgaz1.chiccdn.com/thumb/list_grid/oau...</td>\n",
       "      <td>https://imgaz1.chiccdn.com/thumb/view/oaupload...</td>\n",
       "      <td>https://imgaz1.chiccdn.com/thumb/list_grid/oau...</td>\n",
       "      <td>https://imgaz1.chiccdn.com/thumb/view/oaupload...</td>\n",
       "      <td>https://imgaz1.chiccdn.com/thumb/view/oaupload...</td>\n",
       "      <td>https://fr.newchic.com/beanie-hat-12159/p-1351...</td>\n",
       "      <td>1351636</td>\n",
       "      <td>SKUA39011</td>\n",
       "    </tr>\n",
       "    <tr>\n",
       "      <th>23032</th>\n",
       "      <td>accessories</td>\n",
       "      <td>Beanie Hat</td>\n",
       "      <td>Chapeau de queue de cheval sport chaud pour femme</td>\n",
       "      <td>7.47</td>\n",
       "      <td>17.37</td>\n",
       "      <td>USD</td>\n",
       "      <td>57</td>\n",
       "      <td>11</td>\n",
       "      <td>false</td>\n",
       "      <td>None</td>\n",
       "      <td>...</td>\n",
       "      <td>Noir</td>\n",
       "      <td>Bleu</td>\n",
       "      <td>https://imgaz1.chiccdn.com/thumb/list_grid/oau...</td>\n",
       "      <td>https://imgaz1.chiccdn.com/thumb/view/oaupload...</td>\n",
       "      <td>https://imgaz1.chiccdn.com/thumb/list_grid/oau...</td>\n",
       "      <td>https://imgaz1.chiccdn.com/thumb/view/oaupload...</td>\n",
       "      <td>https://imgaz1.chiccdn.com/thumb/view/oaupload...</td>\n",
       "      <td>https://fr.newchic.com/beanie-hat-12168/p-1353...</td>\n",
       "      <td>1353506</td>\n",
       "      <td>SKUA28778</td>\n",
       "    </tr>\n",
       "    <tr>\n",
       "      <th>23033</th>\n",
       "      <td>accessories</td>\n",
       "      <td>Foulards &amp; Écharpes</td>\n",
       "      <td>Foulard Multifonction Femme</td>\n",
       "      <td>5.5</td>\n",
       "      <td>13.12</td>\n",
       "      <td>USD</td>\n",
       "      <td>58</td>\n",
       "      <td>45</td>\n",
       "      <td>false</td>\n",
       "      <td>None</td>\n",
       "      <td>...</td>\n",
       "      <td>Noir</td>\n",
       "      <td>blanc</td>\n",
       "      <td>https://imgaz1.chiccdn.com/thumb/list_grid/oau...</td>\n",
       "      <td>https://imgaz1.chiccdn.com/thumb/view/oaupload...</td>\n",
       "      <td>https://imgaz1.chiccdn.com/thumb/list_grid/oau...</td>\n",
       "      <td>https://imgaz1.chiccdn.com/thumb/view/oaupload...</td>\n",
       "      <td>https://imgaz1.chiccdn.com/thumb/view/oaupload...</td>\n",
       "      <td>https://fr.newchic.com/womens-scarves-4127/p-1...</td>\n",
       "      <td>1354487</td>\n",
       "      <td>SKU958615</td>\n",
       "    </tr>\n",
       "  </tbody>\n",
       "</table>\n",
       "<p>5 rows × 22 columns</p>\n",
       "</div>"
      ],
      "text/plain": [
       "          category             subcategory  \\\n",
       "23029  accessories  Chaussettes & Collants   \n",
       "23030  accessories              Beanie Hat   \n",
       "23031  accessories              Beanie Hat   \n",
       "23032  accessories              Beanie Hat   \n",
       "23033  accessories     Foulards & Écharpes   \n",
       "\n",
       "                                                    name current_price  \\\n",
       "23029          Summer Thin Invisible No Show Chaussettes          3.22   \n",
       "23030                       Tête chaude en velours Bande           6.9   \n",
       "23031                    Bonnet écharpe en laine d'hiver         11.51   \n",
       "23032  Chapeau de queue de cheval sport chaud pour femme          7.47   \n",
       "23033                        Foulard Multifonction Femme           5.5   \n",
       "\n",
       "      raw_price currency discount likes_count is_new brand  ...  \\\n",
       "23029      8.07      USD       60          52  false  None  ...   \n",
       "23030     16.04      USD       57          41  false  None  ...   \n",
       "23031     26.36      USD       56          22  false  None  ...   \n",
       "23032     17.37      USD       57          11  false  None  ...   \n",
       "23033     13.12      USD       58          45  false  None  ...   \n",
       "\n",
       "      variation_0_color variation_1_color  \\\n",
       "23029             blanc              Gris   \n",
       "23030              Noir        Bleu marin   \n",
       "23031             rouge              Noir   \n",
       "23032              Noir              Bleu   \n",
       "23033              Noir             blanc   \n",
       "\n",
       "                                   variation_0_thumbnail  \\\n",
       "23029  https://imgaz1.chiccdn.com/thumb/list_grid/oau...   \n",
       "23030  https://imgaz1.chiccdn.com/thumb/list_grid/oau...   \n",
       "23031  https://imgaz1.chiccdn.com/thumb/list_grid/oau...   \n",
       "23032  https://imgaz1.chiccdn.com/thumb/list_grid/oau...   \n",
       "23033  https://imgaz1.chiccdn.com/thumb/list_grid/oau...   \n",
       "\n",
       "                                       variation_0_image  \\\n",
       "23029  https://imgaz1.chiccdn.com/thumb/view/oaupload...   \n",
       "23030  https://imgaz1.chiccdn.com/thumb/view/oaupload...   \n",
       "23031  https://imgaz1.chiccdn.com/thumb/view/oaupload...   \n",
       "23032  https://imgaz1.chiccdn.com/thumb/view/oaupload...   \n",
       "23033  https://imgaz1.chiccdn.com/thumb/view/oaupload...   \n",
       "\n",
       "                                   variation_1_thumbnail  \\\n",
       "23029  https://imgaz1.chiccdn.com/thumb/list_grid/oau...   \n",
       "23030  https://imgaz1.chiccdn.com/thumb/list_grid/oau...   \n",
       "23031  https://imgaz1.chiccdn.com/thumb/list_grid/oau...   \n",
       "23032  https://imgaz1.chiccdn.com/thumb/list_grid/oau...   \n",
       "23033  https://imgaz1.chiccdn.com/thumb/list_grid/oau...   \n",
       "\n",
       "                                       variation_1_image  \\\n",
       "23029  https://imgaz1.chiccdn.com/thumb/view/oaupload...   \n",
       "23030  https://imgaz1.chiccdn.com/thumb/view/oaupload...   \n",
       "23031  https://imgaz1.chiccdn.com/thumb/view/oaupload...   \n",
       "23032  https://imgaz1.chiccdn.com/thumb/view/oaupload...   \n",
       "23033  https://imgaz1.chiccdn.com/thumb/view/oaupload...   \n",
       "\n",
       "                                               image_url  \\\n",
       "23029  https://imgaz1.chiccdn.com/thumb/view/oaupload...   \n",
       "23030  https://imgaz1.chiccdn.com/thumb/view/oaupload...   \n",
       "23031  https://imgaz1.chiccdn.com/thumb/view/oaupload...   \n",
       "23032  https://imgaz1.chiccdn.com/thumb/view/oaupload...   \n",
       "23033  https://imgaz1.chiccdn.com/thumb/view/oaupload...   \n",
       "\n",
       "                                                     url       id      model  \n",
       "23029  https://fr.newchic.com/womens-socks-4128/p-145...  1456229  SKUB58875  \n",
       "23030  https://fr.newchic.com/beanie-hat-12168/p-1344...  1344021  SKUA25352  \n",
       "23031  https://fr.newchic.com/beanie-hat-12159/p-1351...  1351636  SKUA39011  \n",
       "23032  https://fr.newchic.com/beanie-hat-12168/p-1353...  1353506  SKUA28778  \n",
       "23033  https://fr.newchic.com/womens-scarves-4127/p-1...  1354487  SKU958615  \n",
       "\n",
       "[5 rows x 22 columns]"
      ]
     },
     "execution_count": 6,
     "metadata": {},
     "output_type": "execute_result"
    }
   ],
   "source": [
    "df.toPandas().tail()"
   ]
  },
  {
   "cell_type": "markdown",
   "id": "international-scheme",
   "metadata": {},
   "source": [
    "## Print the schema"
   ]
  },
  {
   "cell_type": "code",
   "execution_count": 7,
   "id": "vertical-adaptation",
   "metadata": {
    "ExecuteTime": {
     "end_time": "2023-02-04T14:54:17.381946Z",
     "start_time": "2023-02-04T14:54:17.373452Z"
    }
   },
   "outputs": [
    {
     "name": "stdout",
     "output_type": "stream",
     "text": [
      "root\n",
      " |-- category: string (nullable = true)\n",
      " |-- subcategory: string (nullable = true)\n",
      " |-- name: string (nullable = true)\n",
      " |-- current_price: string (nullable = true)\n",
      " |-- raw_price: string (nullable = true)\n",
      " |-- currency: string (nullable = true)\n",
      " |-- discount: string (nullable = true)\n",
      " |-- likes_count: string (nullable = true)\n",
      " |-- is_new: string (nullable = true)\n",
      " |-- brand: string (nullable = true)\n",
      " |-- brand_url: string (nullable = true)\n",
      " |-- codCountry: string (nullable = true)\n",
      " |-- variation_0_color: string (nullable = true)\n",
      " |-- variation_1_color: string (nullable = true)\n",
      " |-- variation_0_thumbnail: string (nullable = true)\n",
      " |-- variation_0_image: string (nullable = true)\n",
      " |-- variation_1_thumbnail: string (nullable = true)\n",
      " |-- variation_1_image: string (nullable = true)\n",
      " |-- image_url: string (nullable = true)\n",
      " |-- url: string (nullable = true)\n",
      " |-- id: string (nullable = true)\n",
      " |-- model: string (nullable = true)\n",
      "\n"
     ]
    }
   ],
   "source": [
    "df.printSchema()"
   ]
  },
  {
   "cell_type": "markdown",
   "id": "exempt-reference",
   "metadata": {},
   "source": [
    "## Transformation of the data -  building more features to help analyse each product "
   ]
  },
  {
   "cell_type": "markdown",
   "id": "identical-retailer",
   "metadata": {},
   "source": [
    "### For these tasks we will be required to create more columns to help get a better understanding of each product.<br>First we will create functions which would take the dataframe as its input and return a new dataframe contianing the following columns.\n",
    "1. Average price of each category \n",
    "2. Average price of each subcategory\n",
    "3. Average discount of each category\n",
    "4. Average discount of each subcategory\n",
    "5. Average likes of each category\n",
    "6. Average likes of each subcategory\n",
    "7. Rank of the likes of each subcategory\n",
    "8. dense rank of the likes of each subcategory\n",
    "9. Rank of the likes of each category\n",
    "10. dense rank of the likes of each category\n",
    "11. Rank of the discount of each category\n",
    "12. dense rank of the likes of each category\n",
    "13. sum ofthe unusedproductsin each category (tip -first convertthe feature isnewto\n",
    "    numeric to beableto getthe sumofthe unusedproducts)\n",
    "15. sum of the unused products in subcategory\n"
   ]
  },
  {
   "cell_type": "code",
   "execution_count": 8,
   "id": "cardiac-switzerland",
   "metadata": {
    "ExecuteTime": {
     "end_time": "2023-02-04T14:54:17.778462Z",
     "start_time": "2023-02-04T14:54:17.390593Z"
    }
   },
   "outputs": [],
   "source": [
    "from pyspark.sql import Window\n",
    "from pyspark.sql import functions as fn"
   ]
  },
  {
   "cell_type": "markdown",
   "id": "green-unemployment",
   "metadata": {},
   "source": [
    "### Average price of each category - subcategory:"
   ]
  },
  {
   "cell_type": "code",
   "execution_count": 9,
   "id": "powerful-stamp",
   "metadata": {
    "ExecuteTime": {
     "end_time": "2023-02-04T14:54:18.048143Z",
     "start_time": "2023-02-04T14:54:17.783614Z"
    }
   },
   "outputs": [],
   "source": [
    "def ave_price(df):\n",
    "    df = df.withColumn('avg_price_category',fn.avg('current_price').over(Window.partitionBy('category')))\n",
    "    df = df.withColumn('avg_price_sub',fn.avg('current_price').over( Window.partitionBy('subcategory')))\n",
    "    return df"
   ]
  },
  {
   "cell_type": "code",
   "execution_count": 10,
   "id": "stock-norway",
   "metadata": {
    "ExecuteTime": {
     "end_time": "2023-02-04T14:54:18.516653Z",
     "start_time": "2023-02-04T14:54:18.051485Z"
    }
   },
   "outputs": [],
   "source": [
    "df = ave_price(df)"
   ]
  },
  {
   "cell_type": "code",
   "execution_count": 11,
   "id": "adjustable-consistency",
   "metadata": {
    "ExecuteTime": {
     "end_time": "2023-02-04T14:54:28.278973Z",
     "start_time": "2023-02-04T14:54:18.520800Z"
    }
   },
   "outputs": [
    {
     "data": {
      "text/html": [
       "<div>\n",
       "<style scoped>\n",
       "    .dataframe tbody tr th:only-of-type {\n",
       "        vertical-align: middle;\n",
       "    }\n",
       "\n",
       "    .dataframe tbody tr th {\n",
       "        vertical-align: top;\n",
       "    }\n",
       "\n",
       "    .dataframe thead th {\n",
       "        text-align: right;\n",
       "    }\n",
       "</style>\n",
       "<table border=\"1\" class=\"dataframe\">\n",
       "  <thead>\n",
       "    <tr style=\"text-align: right;\">\n",
       "      <th></th>\n",
       "      <th>category</th>\n",
       "      <th>subcategory</th>\n",
       "      <th>name</th>\n",
       "      <th>current_price</th>\n",
       "      <th>raw_price</th>\n",
       "      <th>currency</th>\n",
       "      <th>discount</th>\n",
       "      <th>likes_count</th>\n",
       "      <th>is_new</th>\n",
       "      <th>brand</th>\n",
       "      <th>...</th>\n",
       "      <th>variation_0_thumbnail</th>\n",
       "      <th>variation_0_image</th>\n",
       "      <th>variation_1_thumbnail</th>\n",
       "      <th>variation_1_image</th>\n",
       "      <th>image_url</th>\n",
       "      <th>url</th>\n",
       "      <th>id</th>\n",
       "      <th>model</th>\n",
       "      <th>avg_price_category</th>\n",
       "      <th>avg_price_sub</th>\n",
       "    </tr>\n",
       "  </thead>\n",
       "  <tbody>\n",
       "    <tr>\n",
       "      <th>23029</th>\n",
       "      <td>accessories</td>\n",
       "      <td>Ceintures &amp; Bretelles</td>\n",
       "      <td>125cm * 3.7cm Ceintures en toile tricotées Bou...</td>\n",
       "      <td>8.63</td>\n",
       "      <td>24.24</td>\n",
       "      <td>USD</td>\n",
       "      <td>64</td>\n",
       "      <td>36</td>\n",
       "      <td>false</td>\n",
       "      <td>None</td>\n",
       "      <td>...</td>\n",
       "      <td>https://imgaz1.chiccdn.com/thumb/list_grid/oau...</td>\n",
       "      <td>https://imgaz1.chiccdn.com/thumb/view/oaupload...</td>\n",
       "      <td>https://imgaz1.chiccdn.com/thumb/list_grid/oau...</td>\n",
       "      <td>https://imgaz1.chiccdn.com/thumb/view/oaupload...</td>\n",
       "      <td>https://imgaz1.chiccdn.com/thumb/view/oaupload...</td>\n",
       "      <td>https://fr.newchic.com/mens-belts-4189/p-12645...</td>\n",
       "      <td>1264598</td>\n",
       "      <td>SKU859777</td>\n",
       "      <td>12.151066</td>\n",
       "      <td>15.919894</td>\n",
       "    </tr>\n",
       "    <tr>\n",
       "      <th>23030</th>\n",
       "      <td>accessories</td>\n",
       "      <td>Ceintures &amp; Bretelles</td>\n",
       "      <td>Le ciel de 120CM Nylon allient la bande de pan...</td>\n",
       "      <td>8.79</td>\n",
       "      <td>21.44</td>\n",
       "      <td>USD</td>\n",
       "      <td>59</td>\n",
       "      <td>30</td>\n",
       "      <td>false</td>\n",
       "      <td>None</td>\n",
       "      <td>...</td>\n",
       "      <td>https://imgaz1.chiccdn.com/thumb/list_grid/oau...</td>\n",
       "      <td>https://imgaz1.chiccdn.com/thumb/view/oaupload...</td>\n",
       "      <td>https://imgaz1.chiccdn.com/thumb/list_grid/oau...</td>\n",
       "      <td>https://imgaz1.chiccdn.com/thumb/view/oaupload...</td>\n",
       "      <td>https://imgaz1.chiccdn.com/thumb/view/oaupload...</td>\n",
       "      <td>https://fr.newchic.com/mens-belts-4189/p-11203...</td>\n",
       "      <td>1120322</td>\n",
       "      <td>SKU561702</td>\n",
       "      <td>12.151066</td>\n",
       "      <td>15.919894</td>\n",
       "    </tr>\n",
       "    <tr>\n",
       "      <th>23031</th>\n",
       "      <td>accessories</td>\n",
       "      <td>Ceintures &amp; Bretelles</td>\n",
       "      <td>Accessoires Chaussettes Garters Pin Grip Suspe...</td>\n",
       "      <td>8.98</td>\n",
       "      <td>21.57</td>\n",
       "      <td>USD</td>\n",
       "      <td>58</td>\n",
       "      <td>31</td>\n",
       "      <td>false</td>\n",
       "      <td>None</td>\n",
       "      <td>...</td>\n",
       "      <td>https://imgaz1.chiccdn.com/thumb/list_grid/oau...</td>\n",
       "      <td>https://imgaz1.chiccdn.com/thumb/view/oaupload...</td>\n",
       "      <td>https://imgaz1.chiccdn.com/thumb/list_grid/oau...</td>\n",
       "      <td>https://imgaz1.chiccdn.com/thumb/view/oaupload...</td>\n",
       "      <td>https://imgaz1.chiccdn.com/thumb/view/oaupload...</td>\n",
       "      <td>https://fr.newchic.com/mens-belts-4189/p-10655...</td>\n",
       "      <td>1065548</td>\n",
       "      <td>SKU415196</td>\n",
       "      <td>12.151066</td>\n",
       "      <td>15.919894</td>\n",
       "    </tr>\n",
       "    <tr>\n",
       "      <th>23032</th>\n",
       "      <td>accessories</td>\n",
       "      <td>Ceintures &amp; Bretelles</td>\n",
       "      <td>Ceinture décontractée en fibre chimique tressé...</td>\n",
       "      <td>5.63</td>\n",
       "      <td>14.11</td>\n",
       "      <td>USD</td>\n",
       "      <td>60</td>\n",
       "      <td>6</td>\n",
       "      <td>false</td>\n",
       "      <td>None</td>\n",
       "      <td>...</td>\n",
       "      <td>https://imgaz1.chiccdn.com/thumb/list_grid/oau...</td>\n",
       "      <td>https://imgaz1.chiccdn.com/thumb/view/oaupload...</td>\n",
       "      <td>https://imgaz1.chiccdn.com/thumb/list_grid/oau...</td>\n",
       "      <td>https://imgaz1.chiccdn.com/thumb/view/oaupload...</td>\n",
       "      <td>https://imgaz1.chiccdn.com/thumb/view/oaupload...</td>\n",
       "      <td>https://fr.newchic.com/mens-belts-4189/p-16079...</td>\n",
       "      <td>1607924</td>\n",
       "      <td>SKUE01040</td>\n",
       "      <td>12.151066</td>\n",
       "      <td>15.919894</td>\n",
       "    </tr>\n",
       "    <tr>\n",
       "      <th>23033</th>\n",
       "      <td>accessories</td>\n",
       "      <td>Ceintures &amp; Bretelles</td>\n",
       "      <td>Ceinture en alliage de cuir à boucle double an...</td>\n",
       "      <td>5.86</td>\n",
       "      <td>13.56</td>\n",
       "      <td>USD</td>\n",
       "      <td>57</td>\n",
       "      <td>41</td>\n",
       "      <td>false</td>\n",
       "      <td>None</td>\n",
       "      <td>...</td>\n",
       "      <td>https://imgaz1.chiccdn.com/thumb/list_grid/oau...</td>\n",
       "      <td>https://imgaz1.chiccdn.com/thumb/view/oaupload...</td>\n",
       "      <td>https://imgaz1.chiccdn.com/thumb/list_grid/oau...</td>\n",
       "      <td>https://imgaz1.chiccdn.com/thumb/view/oaupload...</td>\n",
       "      <td>https://imgaz1.chiccdn.com/thumb/view/oaupload...</td>\n",
       "      <td>https://fr.newchic.com/mens-belts-4189/p-99243...</td>\n",
       "      <td>992439</td>\n",
       "      <td>SKU270173</td>\n",
       "      <td>12.151066</td>\n",
       "      <td>15.919894</td>\n",
       "    </tr>\n",
       "  </tbody>\n",
       "</table>\n",
       "<p>5 rows × 24 columns</p>\n",
       "</div>"
      ],
      "text/plain": [
       "          category            subcategory  \\\n",
       "23029  accessories  Ceintures & Bretelles   \n",
       "23030  accessories  Ceintures & Bretelles   \n",
       "23031  accessories  Ceintures & Bretelles   \n",
       "23032  accessories  Ceintures & Bretelles   \n",
       "23033  accessories  Ceintures & Bretelles   \n",
       "\n",
       "                                                    name current_price  \\\n",
       "23029  125cm * 3.7cm Ceintures en toile tricotées Bou...          8.63   \n",
       "23030  Le ciel de 120CM Nylon allient la bande de pan...          8.79   \n",
       "23031  Accessoires Chaussettes Garters Pin Grip Suspe...          8.98   \n",
       "23032  Ceinture décontractée en fibre chimique tressé...          5.63   \n",
       "23033  Ceinture en alliage de cuir à boucle double an...          5.86   \n",
       "\n",
       "      raw_price currency discount likes_count is_new brand  ...  \\\n",
       "23029     24.24      USD       64          36  false  None  ...   \n",
       "23030     21.44      USD       59          30  false  None  ...   \n",
       "23031     21.57      USD       58          31  false  None  ...   \n",
       "23032     14.11      USD       60           6  false  None  ...   \n",
       "23033     13.56      USD       57          41  false  None  ...   \n",
       "\n",
       "                                   variation_0_thumbnail  \\\n",
       "23029  https://imgaz1.chiccdn.com/thumb/list_grid/oau...   \n",
       "23030  https://imgaz1.chiccdn.com/thumb/list_grid/oau...   \n",
       "23031  https://imgaz1.chiccdn.com/thumb/list_grid/oau...   \n",
       "23032  https://imgaz1.chiccdn.com/thumb/list_grid/oau...   \n",
       "23033  https://imgaz1.chiccdn.com/thumb/list_grid/oau...   \n",
       "\n",
       "                                       variation_0_image  \\\n",
       "23029  https://imgaz1.chiccdn.com/thumb/view/oaupload...   \n",
       "23030  https://imgaz1.chiccdn.com/thumb/view/oaupload...   \n",
       "23031  https://imgaz1.chiccdn.com/thumb/view/oaupload...   \n",
       "23032  https://imgaz1.chiccdn.com/thumb/view/oaupload...   \n",
       "23033  https://imgaz1.chiccdn.com/thumb/view/oaupload...   \n",
       "\n",
       "                                   variation_1_thumbnail  \\\n",
       "23029  https://imgaz1.chiccdn.com/thumb/list_grid/oau...   \n",
       "23030  https://imgaz1.chiccdn.com/thumb/list_grid/oau...   \n",
       "23031  https://imgaz1.chiccdn.com/thumb/list_grid/oau...   \n",
       "23032  https://imgaz1.chiccdn.com/thumb/list_grid/oau...   \n",
       "23033  https://imgaz1.chiccdn.com/thumb/list_grid/oau...   \n",
       "\n",
       "                                       variation_1_image  \\\n",
       "23029  https://imgaz1.chiccdn.com/thumb/view/oaupload...   \n",
       "23030  https://imgaz1.chiccdn.com/thumb/view/oaupload...   \n",
       "23031  https://imgaz1.chiccdn.com/thumb/view/oaupload...   \n",
       "23032  https://imgaz1.chiccdn.com/thumb/view/oaupload...   \n",
       "23033  https://imgaz1.chiccdn.com/thumb/view/oaupload...   \n",
       "\n",
       "                                               image_url  \\\n",
       "23029  https://imgaz1.chiccdn.com/thumb/view/oaupload...   \n",
       "23030  https://imgaz1.chiccdn.com/thumb/view/oaupload...   \n",
       "23031  https://imgaz1.chiccdn.com/thumb/view/oaupload...   \n",
       "23032  https://imgaz1.chiccdn.com/thumb/view/oaupload...   \n",
       "23033  https://imgaz1.chiccdn.com/thumb/view/oaupload...   \n",
       "\n",
       "                                                     url       id      model  \\\n",
       "23029  https://fr.newchic.com/mens-belts-4189/p-12645...  1264598  SKU859777   \n",
       "23030  https://fr.newchic.com/mens-belts-4189/p-11203...  1120322  SKU561702   \n",
       "23031  https://fr.newchic.com/mens-belts-4189/p-10655...  1065548  SKU415196   \n",
       "23032  https://fr.newchic.com/mens-belts-4189/p-16079...  1607924  SKUE01040   \n",
       "23033  https://fr.newchic.com/mens-belts-4189/p-99243...   992439  SKU270173   \n",
       "\n",
       "      avg_price_category avg_price_sub  \n",
       "23029          12.151066     15.919894  \n",
       "23030          12.151066     15.919894  \n",
       "23031          12.151066     15.919894  \n",
       "23032          12.151066     15.919894  \n",
       "23033          12.151066     15.919894  \n",
       "\n",
       "[5 rows x 24 columns]"
      ]
     },
     "execution_count": 11,
     "metadata": {},
     "output_type": "execute_result"
    }
   ],
   "source": [
    "df.toPandas().tail()"
   ]
  },
  {
   "cell_type": "code",
   "execution_count": 12,
   "id": "front-metallic",
   "metadata": {
    "ExecuteTime": {
     "end_time": "2023-02-04T14:54:28.293214Z",
     "start_time": "2023-02-04T14:54:28.283024Z"
    }
   },
   "outputs": [
    {
     "name": "stdout",
     "output_type": "stream",
     "text": [
      "root\n",
      " |-- category: string (nullable = true)\n",
      " |-- subcategory: string (nullable = true)\n",
      " |-- name: string (nullable = true)\n",
      " |-- current_price: string (nullable = true)\n",
      " |-- raw_price: string (nullable = true)\n",
      " |-- currency: string (nullable = true)\n",
      " |-- discount: string (nullable = true)\n",
      " |-- likes_count: string (nullable = true)\n",
      " |-- is_new: string (nullable = true)\n",
      " |-- brand: string (nullable = true)\n",
      " |-- brand_url: string (nullable = true)\n",
      " |-- codCountry: string (nullable = true)\n",
      " |-- variation_0_color: string (nullable = true)\n",
      " |-- variation_1_color: string (nullable = true)\n",
      " |-- variation_0_thumbnail: string (nullable = true)\n",
      " |-- variation_0_image: string (nullable = true)\n",
      " |-- variation_1_thumbnail: string (nullable = true)\n",
      " |-- variation_1_image: string (nullable = true)\n",
      " |-- image_url: string (nullable = true)\n",
      " |-- url: string (nullable = true)\n",
      " |-- id: string (nullable = true)\n",
      " |-- model: string (nullable = true)\n",
      " |-- avg_price_category: double (nullable = true)\n",
      " |-- avg_price_sub: double (nullable = true)\n",
      "\n"
     ]
    }
   ],
   "source": [
    "df.printSchema()"
   ]
  },
  {
   "cell_type": "markdown",
   "id": "bright-chassis",
   "metadata": {
    "ExecuteTime": {
     "end_time": "2023-01-23T14:27:58.022443Z",
     "start_time": "2023-01-23T14:27:57.992334Z"
    }
   },
   "source": [
    "### Average discount of each category - subcategory"
   ]
  },
  {
   "cell_type": "code",
   "execution_count": 13,
   "id": "magnetic-incentive",
   "metadata": {
    "ExecuteTime": {
     "end_time": "2023-02-04T14:54:28.937951Z",
     "start_time": "2023-02-04T14:54:28.307833Z"
    }
   },
   "outputs": [
    {
     "data": {
      "text/plain": [
       "DataFrame[category: string, subcategory: string, name: string, current_price: string, raw_price: string, currency: string, discount: string, likes_count: string, is_new: string, brand: string, brand_url: string, codCountry: string, variation_0_color: string, variation_1_color: string, variation_0_thumbnail: string, variation_0_image: string, variation_1_thumbnail: string, variation_1_image: string, image_url: string, url: string, id: string, model: string, avg_price_category: double, avg_price_sub: double, avg_discount_category: double, avg_discount_subcategory: double]"
      ]
     },
     "execution_count": 13,
     "metadata": {},
     "output_type": "execute_result"
    }
   ],
   "source": [
    "def ave_discount(df):\n",
    "    df = df.withColumn('avg_discount_category',fn.avg('discount').over(Window.partitionBy('category')))\n",
    "    df = df.withColumn('avg_discount_subcategory',fn.avg('discount').over(Window.partitionBy('subcategory')))\n",
    "    return df\n",
    "ave_discount(df)"
   ]
  },
  {
   "cell_type": "code",
   "execution_count": 14,
   "id": "buried-comparative",
   "metadata": {
    "ExecuteTime": {
     "end_time": "2023-02-04T14:54:29.155595Z",
     "start_time": "2023-02-04T14:54:28.943096Z"
    }
   },
   "outputs": [],
   "source": [
    "df = ave_discount(df)"
   ]
  },
  {
   "cell_type": "code",
   "execution_count": 15,
   "id": "affecting-bacteria",
   "metadata": {
    "ExecuteTime": {
     "end_time": "2023-02-04T14:54:42.174584Z",
     "start_time": "2023-02-04T14:54:29.158338Z"
    }
   },
   "outputs": [
    {
     "data": {
      "text/html": [
       "<div>\n",
       "<style scoped>\n",
       "    .dataframe tbody tr th:only-of-type {\n",
       "        vertical-align: middle;\n",
       "    }\n",
       "\n",
       "    .dataframe tbody tr th {\n",
       "        vertical-align: top;\n",
       "    }\n",
       "\n",
       "    .dataframe thead th {\n",
       "        text-align: right;\n",
       "    }\n",
       "</style>\n",
       "<table border=\"1\" class=\"dataframe\">\n",
       "  <thead>\n",
       "    <tr style=\"text-align: right;\">\n",
       "      <th></th>\n",
       "      <th>category</th>\n",
       "      <th>subcategory</th>\n",
       "      <th>name</th>\n",
       "      <th>current_price</th>\n",
       "      <th>raw_price</th>\n",
       "      <th>currency</th>\n",
       "      <th>discount</th>\n",
       "      <th>likes_count</th>\n",
       "      <th>is_new</th>\n",
       "      <th>brand</th>\n",
       "      <th>...</th>\n",
       "      <th>variation_1_thumbnail</th>\n",
       "      <th>variation_1_image</th>\n",
       "      <th>image_url</th>\n",
       "      <th>url</th>\n",
       "      <th>id</th>\n",
       "      <th>model</th>\n",
       "      <th>avg_price_category</th>\n",
       "      <th>avg_price_sub</th>\n",
       "      <th>avg_discount_category</th>\n",
       "      <th>avg_discount_subcategory</th>\n",
       "    </tr>\n",
       "  </thead>\n",
       "  <tbody>\n",
       "    <tr>\n",
       "      <th>23029</th>\n",
       "      <td>accessories</td>\n",
       "      <td>Ceintures &amp; Bretelles</td>\n",
       "      <td>125cm * 3.7cm Ceintures en toile tricotées Bou...</td>\n",
       "      <td>8.63</td>\n",
       "      <td>24.24</td>\n",
       "      <td>USD</td>\n",
       "      <td>64</td>\n",
       "      <td>36</td>\n",
       "      <td>false</td>\n",
       "      <td>None</td>\n",
       "      <td>...</td>\n",
       "      <td>https://imgaz1.chiccdn.com/thumb/list_grid/oau...</td>\n",
       "      <td>https://imgaz1.chiccdn.com/thumb/view/oaupload...</td>\n",
       "      <td>https://imgaz1.chiccdn.com/thumb/view/oaupload...</td>\n",
       "      <td>https://fr.newchic.com/mens-belts-4189/p-12645...</td>\n",
       "      <td>1264598</td>\n",
       "      <td>SKU859777</td>\n",
       "      <td>12.151066</td>\n",
       "      <td>15.919894</td>\n",
       "      <td>50.757628</td>\n",
       "      <td>49.46831</td>\n",
       "    </tr>\n",
       "    <tr>\n",
       "      <th>23030</th>\n",
       "      <td>accessories</td>\n",
       "      <td>Ceintures &amp; Bretelles</td>\n",
       "      <td>Le ciel de 120CM Nylon allient la bande de pan...</td>\n",
       "      <td>8.79</td>\n",
       "      <td>21.44</td>\n",
       "      <td>USD</td>\n",
       "      <td>59</td>\n",
       "      <td>30</td>\n",
       "      <td>false</td>\n",
       "      <td>None</td>\n",
       "      <td>...</td>\n",
       "      <td>https://imgaz1.chiccdn.com/thumb/list_grid/oau...</td>\n",
       "      <td>https://imgaz1.chiccdn.com/thumb/view/oaupload...</td>\n",
       "      <td>https://imgaz1.chiccdn.com/thumb/view/oaupload...</td>\n",
       "      <td>https://fr.newchic.com/mens-belts-4189/p-11203...</td>\n",
       "      <td>1120322</td>\n",
       "      <td>SKU561702</td>\n",
       "      <td>12.151066</td>\n",
       "      <td>15.919894</td>\n",
       "      <td>50.757628</td>\n",
       "      <td>49.46831</td>\n",
       "    </tr>\n",
       "    <tr>\n",
       "      <th>23031</th>\n",
       "      <td>accessories</td>\n",
       "      <td>Ceintures &amp; Bretelles</td>\n",
       "      <td>Accessoires Chaussettes Garters Pin Grip Suspe...</td>\n",
       "      <td>8.98</td>\n",
       "      <td>21.57</td>\n",
       "      <td>USD</td>\n",
       "      <td>58</td>\n",
       "      <td>31</td>\n",
       "      <td>false</td>\n",
       "      <td>None</td>\n",
       "      <td>...</td>\n",
       "      <td>https://imgaz1.chiccdn.com/thumb/list_grid/oau...</td>\n",
       "      <td>https://imgaz1.chiccdn.com/thumb/view/oaupload...</td>\n",
       "      <td>https://imgaz1.chiccdn.com/thumb/view/oaupload...</td>\n",
       "      <td>https://fr.newchic.com/mens-belts-4189/p-10655...</td>\n",
       "      <td>1065548</td>\n",
       "      <td>SKU415196</td>\n",
       "      <td>12.151066</td>\n",
       "      <td>15.919894</td>\n",
       "      <td>50.757628</td>\n",
       "      <td>49.46831</td>\n",
       "    </tr>\n",
       "    <tr>\n",
       "      <th>23032</th>\n",
       "      <td>accessories</td>\n",
       "      <td>Ceintures &amp; Bretelles</td>\n",
       "      <td>Ceinture décontractée en fibre chimique tressé...</td>\n",
       "      <td>5.63</td>\n",
       "      <td>14.11</td>\n",
       "      <td>USD</td>\n",
       "      <td>60</td>\n",
       "      <td>6</td>\n",
       "      <td>false</td>\n",
       "      <td>None</td>\n",
       "      <td>...</td>\n",
       "      <td>https://imgaz1.chiccdn.com/thumb/list_grid/oau...</td>\n",
       "      <td>https://imgaz1.chiccdn.com/thumb/view/oaupload...</td>\n",
       "      <td>https://imgaz1.chiccdn.com/thumb/view/oaupload...</td>\n",
       "      <td>https://fr.newchic.com/mens-belts-4189/p-16079...</td>\n",
       "      <td>1607924</td>\n",
       "      <td>SKUE01040</td>\n",
       "      <td>12.151066</td>\n",
       "      <td>15.919894</td>\n",
       "      <td>50.757628</td>\n",
       "      <td>49.46831</td>\n",
       "    </tr>\n",
       "    <tr>\n",
       "      <th>23033</th>\n",
       "      <td>accessories</td>\n",
       "      <td>Ceintures &amp; Bretelles</td>\n",
       "      <td>Ceinture en alliage de cuir à boucle double an...</td>\n",
       "      <td>5.86</td>\n",
       "      <td>13.56</td>\n",
       "      <td>USD</td>\n",
       "      <td>57</td>\n",
       "      <td>41</td>\n",
       "      <td>false</td>\n",
       "      <td>None</td>\n",
       "      <td>...</td>\n",
       "      <td>https://imgaz1.chiccdn.com/thumb/list_grid/oau...</td>\n",
       "      <td>https://imgaz1.chiccdn.com/thumb/view/oaupload...</td>\n",
       "      <td>https://imgaz1.chiccdn.com/thumb/view/oaupload...</td>\n",
       "      <td>https://fr.newchic.com/mens-belts-4189/p-99243...</td>\n",
       "      <td>992439</td>\n",
       "      <td>SKU270173</td>\n",
       "      <td>12.151066</td>\n",
       "      <td>15.919894</td>\n",
       "      <td>50.757628</td>\n",
       "      <td>49.46831</td>\n",
       "    </tr>\n",
       "  </tbody>\n",
       "</table>\n",
       "<p>5 rows × 26 columns</p>\n",
       "</div>"
      ],
      "text/plain": [
       "          category            subcategory  \\\n",
       "23029  accessories  Ceintures & Bretelles   \n",
       "23030  accessories  Ceintures & Bretelles   \n",
       "23031  accessories  Ceintures & Bretelles   \n",
       "23032  accessories  Ceintures & Bretelles   \n",
       "23033  accessories  Ceintures & Bretelles   \n",
       "\n",
       "                                                    name current_price  \\\n",
       "23029  125cm * 3.7cm Ceintures en toile tricotées Bou...          8.63   \n",
       "23030  Le ciel de 120CM Nylon allient la bande de pan...          8.79   \n",
       "23031  Accessoires Chaussettes Garters Pin Grip Suspe...          8.98   \n",
       "23032  Ceinture décontractée en fibre chimique tressé...          5.63   \n",
       "23033  Ceinture en alliage de cuir à boucle double an...          5.86   \n",
       "\n",
       "      raw_price currency discount likes_count is_new brand  ...  \\\n",
       "23029     24.24      USD       64          36  false  None  ...   \n",
       "23030     21.44      USD       59          30  false  None  ...   \n",
       "23031     21.57      USD       58          31  false  None  ...   \n",
       "23032     14.11      USD       60           6  false  None  ...   \n",
       "23033     13.56      USD       57          41  false  None  ...   \n",
       "\n",
       "                                   variation_1_thumbnail  \\\n",
       "23029  https://imgaz1.chiccdn.com/thumb/list_grid/oau...   \n",
       "23030  https://imgaz1.chiccdn.com/thumb/list_grid/oau...   \n",
       "23031  https://imgaz1.chiccdn.com/thumb/list_grid/oau...   \n",
       "23032  https://imgaz1.chiccdn.com/thumb/list_grid/oau...   \n",
       "23033  https://imgaz1.chiccdn.com/thumb/list_grid/oau...   \n",
       "\n",
       "                                       variation_1_image  \\\n",
       "23029  https://imgaz1.chiccdn.com/thumb/view/oaupload...   \n",
       "23030  https://imgaz1.chiccdn.com/thumb/view/oaupload...   \n",
       "23031  https://imgaz1.chiccdn.com/thumb/view/oaupload...   \n",
       "23032  https://imgaz1.chiccdn.com/thumb/view/oaupload...   \n",
       "23033  https://imgaz1.chiccdn.com/thumb/view/oaupload...   \n",
       "\n",
       "                                               image_url  \\\n",
       "23029  https://imgaz1.chiccdn.com/thumb/view/oaupload...   \n",
       "23030  https://imgaz1.chiccdn.com/thumb/view/oaupload...   \n",
       "23031  https://imgaz1.chiccdn.com/thumb/view/oaupload...   \n",
       "23032  https://imgaz1.chiccdn.com/thumb/view/oaupload...   \n",
       "23033  https://imgaz1.chiccdn.com/thumb/view/oaupload...   \n",
       "\n",
       "                                                     url       id      model  \\\n",
       "23029  https://fr.newchic.com/mens-belts-4189/p-12645...  1264598  SKU859777   \n",
       "23030  https://fr.newchic.com/mens-belts-4189/p-11203...  1120322  SKU561702   \n",
       "23031  https://fr.newchic.com/mens-belts-4189/p-10655...  1065548  SKU415196   \n",
       "23032  https://fr.newchic.com/mens-belts-4189/p-16079...  1607924  SKUE01040   \n",
       "23033  https://fr.newchic.com/mens-belts-4189/p-99243...   992439  SKU270173   \n",
       "\n",
       "      avg_price_category avg_price_sub avg_discount_category  \\\n",
       "23029          12.151066     15.919894             50.757628   \n",
       "23030          12.151066     15.919894             50.757628   \n",
       "23031          12.151066     15.919894             50.757628   \n",
       "23032          12.151066     15.919894             50.757628   \n",
       "23033          12.151066     15.919894             50.757628   \n",
       "\n",
       "      avg_discount_subcategory  \n",
       "23029                 49.46831  \n",
       "23030                 49.46831  \n",
       "23031                 49.46831  \n",
       "23032                 49.46831  \n",
       "23033                 49.46831  \n",
       "\n",
       "[5 rows x 26 columns]"
      ]
     },
     "execution_count": 15,
     "metadata": {},
     "output_type": "execute_result"
    }
   ],
   "source": [
    "df.toPandas().tail()"
   ]
  },
  {
   "cell_type": "code",
   "execution_count": 16,
   "id": "configured-situation",
   "metadata": {
    "ExecuteTime": {
     "end_time": "2023-02-04T14:54:42.185775Z",
     "start_time": "2023-02-04T14:54:42.179719Z"
    }
   },
   "outputs": [
    {
     "name": "stdout",
     "output_type": "stream",
     "text": [
      "root\n",
      " |-- category: string (nullable = true)\n",
      " |-- subcategory: string (nullable = true)\n",
      " |-- name: string (nullable = true)\n",
      " |-- current_price: string (nullable = true)\n",
      " |-- raw_price: string (nullable = true)\n",
      " |-- currency: string (nullable = true)\n",
      " |-- discount: string (nullable = true)\n",
      " |-- likes_count: string (nullable = true)\n",
      " |-- is_new: string (nullable = true)\n",
      " |-- brand: string (nullable = true)\n",
      " |-- brand_url: string (nullable = true)\n",
      " |-- codCountry: string (nullable = true)\n",
      " |-- variation_0_color: string (nullable = true)\n",
      " |-- variation_1_color: string (nullable = true)\n",
      " |-- variation_0_thumbnail: string (nullable = true)\n",
      " |-- variation_0_image: string (nullable = true)\n",
      " |-- variation_1_thumbnail: string (nullable = true)\n",
      " |-- variation_1_image: string (nullable = true)\n",
      " |-- image_url: string (nullable = true)\n",
      " |-- url: string (nullable = true)\n",
      " |-- id: string (nullable = true)\n",
      " |-- model: string (nullable = true)\n",
      " |-- avg_price_category: double (nullable = true)\n",
      " |-- avg_price_sub: double (nullable = true)\n",
      " |-- avg_discount_category: double (nullable = true)\n",
      " |-- avg_discount_subcategory: double (nullable = true)\n",
      "\n"
     ]
    }
   ],
   "source": [
    "df.printSchema()"
   ]
  },
  {
   "cell_type": "markdown",
   "id": "broad-singapore",
   "metadata": {},
   "source": [
    "### Average likes of each category -  subcategory"
   ]
  },
  {
   "cell_type": "code",
   "execution_count": 17,
   "id": "democratic-probe",
   "metadata": {
    "ExecuteTime": {
     "end_time": "2023-02-04T14:54:42.584669Z",
     "start_time": "2023-02-04T14:54:42.190544Z"
    }
   },
   "outputs": [
    {
     "data": {
      "text/plain": [
       "DataFrame[category: string, subcategory: string, name: string, current_price: string, raw_price: string, currency: string, discount: string, likes_count: string, is_new: string, brand: string, brand_url: string, codCountry: string, variation_0_color: string, variation_1_color: string, variation_0_thumbnail: string, variation_0_image: string, variation_1_thumbnail: string, variation_1_image: string, image_url: string, url: string, id: string, model: string, avg_price_category: double, avg_price_sub: double, avg_discount_category: double, avg_discount_subcategory: double, avg_likes_category: double, avg_likes_subcategory: double]"
      ]
     },
     "execution_count": 17,
     "metadata": {},
     "output_type": "execute_result"
    }
   ],
   "source": [
    "def ave_likes(df):\n",
    "    df = df.withColumn('avg_likes_category',fn.avg('likes_count').over(Window.partitionBy('category')))\n",
    "    df = df.withColumn('avg_likes_subcategory',fn.avg('likes_count').over(Window.partitionBy('subcategory')))\n",
    "    return df\n",
    "ave_likes(df)"
   ]
  },
  {
   "cell_type": "code",
   "execution_count": 18,
   "id": "employed-prior",
   "metadata": {
    "ExecuteTime": {
     "end_time": "2023-02-04T14:54:42.760021Z",
     "start_time": "2023-02-04T14:54:42.592881Z"
    }
   },
   "outputs": [],
   "source": [
    "df = ave_likes(df)"
   ]
  },
  {
   "cell_type": "code",
   "execution_count": 19,
   "id": "seasonal-package",
   "metadata": {
    "ExecuteTime": {
     "end_time": "2023-02-04T14:54:59.576834Z",
     "start_time": "2023-02-04T14:54:42.770247Z"
    }
   },
   "outputs": [
    {
     "data": {
      "text/html": [
       "<div>\n",
       "<style scoped>\n",
       "    .dataframe tbody tr th:only-of-type {\n",
       "        vertical-align: middle;\n",
       "    }\n",
       "\n",
       "    .dataframe tbody tr th {\n",
       "        vertical-align: top;\n",
       "    }\n",
       "\n",
       "    .dataframe thead th {\n",
       "        text-align: right;\n",
       "    }\n",
       "</style>\n",
       "<table border=\"1\" class=\"dataframe\">\n",
       "  <thead>\n",
       "    <tr style=\"text-align: right;\">\n",
       "      <th></th>\n",
       "      <th>category</th>\n",
       "      <th>subcategory</th>\n",
       "      <th>name</th>\n",
       "      <th>current_price</th>\n",
       "      <th>raw_price</th>\n",
       "      <th>currency</th>\n",
       "      <th>discount</th>\n",
       "      <th>likes_count</th>\n",
       "      <th>is_new</th>\n",
       "      <th>brand</th>\n",
       "      <th>...</th>\n",
       "      <th>image_url</th>\n",
       "      <th>url</th>\n",
       "      <th>id</th>\n",
       "      <th>model</th>\n",
       "      <th>avg_price_category</th>\n",
       "      <th>avg_price_sub</th>\n",
       "      <th>avg_discount_category</th>\n",
       "      <th>avg_discount_subcategory</th>\n",
       "      <th>avg_likes_category</th>\n",
       "      <th>avg_likes_subcategory</th>\n",
       "    </tr>\n",
       "  </thead>\n",
       "  <tbody>\n",
       "    <tr>\n",
       "      <th>23029</th>\n",
       "      <td>accessories</td>\n",
       "      <td>Ceintures &amp; Bretelles</td>\n",
       "      <td>125cm * 3.7cm Ceintures en toile tricotées Bou...</td>\n",
       "      <td>8.63</td>\n",
       "      <td>24.24</td>\n",
       "      <td>USD</td>\n",
       "      <td>64</td>\n",
       "      <td>36</td>\n",
       "      <td>false</td>\n",
       "      <td>None</td>\n",
       "      <td>...</td>\n",
       "      <td>https://imgaz1.chiccdn.com/thumb/view/oaupload...</td>\n",
       "      <td>https://fr.newchic.com/mens-belts-4189/p-12645...</td>\n",
       "      <td>1264598</td>\n",
       "      <td>SKU859777</td>\n",
       "      <td>12.151066</td>\n",
       "      <td>15.919894</td>\n",
       "      <td>50.757628</td>\n",
       "      <td>49.46831</td>\n",
       "      <td>96.496068</td>\n",
       "      <td>121.429577</td>\n",
       "    </tr>\n",
       "    <tr>\n",
       "      <th>23030</th>\n",
       "      <td>accessories</td>\n",
       "      <td>Ceintures &amp; Bretelles</td>\n",
       "      <td>Le ciel de 120CM Nylon allient la bande de pan...</td>\n",
       "      <td>8.79</td>\n",
       "      <td>21.44</td>\n",
       "      <td>USD</td>\n",
       "      <td>59</td>\n",
       "      <td>30</td>\n",
       "      <td>false</td>\n",
       "      <td>None</td>\n",
       "      <td>...</td>\n",
       "      <td>https://imgaz1.chiccdn.com/thumb/view/oaupload...</td>\n",
       "      <td>https://fr.newchic.com/mens-belts-4189/p-11203...</td>\n",
       "      <td>1120322</td>\n",
       "      <td>SKU561702</td>\n",
       "      <td>12.151066</td>\n",
       "      <td>15.919894</td>\n",
       "      <td>50.757628</td>\n",
       "      <td>49.46831</td>\n",
       "      <td>96.496068</td>\n",
       "      <td>121.429577</td>\n",
       "    </tr>\n",
       "    <tr>\n",
       "      <th>23031</th>\n",
       "      <td>accessories</td>\n",
       "      <td>Ceintures &amp; Bretelles</td>\n",
       "      <td>Accessoires Chaussettes Garters Pin Grip Suspe...</td>\n",
       "      <td>8.98</td>\n",
       "      <td>21.57</td>\n",
       "      <td>USD</td>\n",
       "      <td>58</td>\n",
       "      <td>31</td>\n",
       "      <td>false</td>\n",
       "      <td>None</td>\n",
       "      <td>...</td>\n",
       "      <td>https://imgaz1.chiccdn.com/thumb/view/oaupload...</td>\n",
       "      <td>https://fr.newchic.com/mens-belts-4189/p-10655...</td>\n",
       "      <td>1065548</td>\n",
       "      <td>SKU415196</td>\n",
       "      <td>12.151066</td>\n",
       "      <td>15.919894</td>\n",
       "      <td>50.757628</td>\n",
       "      <td>49.46831</td>\n",
       "      <td>96.496068</td>\n",
       "      <td>121.429577</td>\n",
       "    </tr>\n",
       "    <tr>\n",
       "      <th>23032</th>\n",
       "      <td>accessories</td>\n",
       "      <td>Ceintures &amp; Bretelles</td>\n",
       "      <td>Ceinture décontractée en fibre chimique tressé...</td>\n",
       "      <td>5.63</td>\n",
       "      <td>14.11</td>\n",
       "      <td>USD</td>\n",
       "      <td>60</td>\n",
       "      <td>6</td>\n",
       "      <td>false</td>\n",
       "      <td>None</td>\n",
       "      <td>...</td>\n",
       "      <td>https://imgaz1.chiccdn.com/thumb/view/oaupload...</td>\n",
       "      <td>https://fr.newchic.com/mens-belts-4189/p-16079...</td>\n",
       "      <td>1607924</td>\n",
       "      <td>SKUE01040</td>\n",
       "      <td>12.151066</td>\n",
       "      <td>15.919894</td>\n",
       "      <td>50.757628</td>\n",
       "      <td>49.46831</td>\n",
       "      <td>96.496068</td>\n",
       "      <td>121.429577</td>\n",
       "    </tr>\n",
       "    <tr>\n",
       "      <th>23033</th>\n",
       "      <td>accessories</td>\n",
       "      <td>Ceintures &amp; Bretelles</td>\n",
       "      <td>Ceinture en alliage de cuir à boucle double an...</td>\n",
       "      <td>5.86</td>\n",
       "      <td>13.56</td>\n",
       "      <td>USD</td>\n",
       "      <td>57</td>\n",
       "      <td>41</td>\n",
       "      <td>false</td>\n",
       "      <td>None</td>\n",
       "      <td>...</td>\n",
       "      <td>https://imgaz1.chiccdn.com/thumb/view/oaupload...</td>\n",
       "      <td>https://fr.newchic.com/mens-belts-4189/p-99243...</td>\n",
       "      <td>992439</td>\n",
       "      <td>SKU270173</td>\n",
       "      <td>12.151066</td>\n",
       "      <td>15.919894</td>\n",
       "      <td>50.757628</td>\n",
       "      <td>49.46831</td>\n",
       "      <td>96.496068</td>\n",
       "      <td>121.429577</td>\n",
       "    </tr>\n",
       "  </tbody>\n",
       "</table>\n",
       "<p>5 rows × 28 columns</p>\n",
       "</div>"
      ],
      "text/plain": [
       "          category            subcategory  \\\n",
       "23029  accessories  Ceintures & Bretelles   \n",
       "23030  accessories  Ceintures & Bretelles   \n",
       "23031  accessories  Ceintures & Bretelles   \n",
       "23032  accessories  Ceintures & Bretelles   \n",
       "23033  accessories  Ceintures & Bretelles   \n",
       "\n",
       "                                                    name current_price  \\\n",
       "23029  125cm * 3.7cm Ceintures en toile tricotées Bou...          8.63   \n",
       "23030  Le ciel de 120CM Nylon allient la bande de pan...          8.79   \n",
       "23031  Accessoires Chaussettes Garters Pin Grip Suspe...          8.98   \n",
       "23032  Ceinture décontractée en fibre chimique tressé...          5.63   \n",
       "23033  Ceinture en alliage de cuir à boucle double an...          5.86   \n",
       "\n",
       "      raw_price currency discount likes_count is_new brand  ...  \\\n",
       "23029     24.24      USD       64          36  false  None  ...   \n",
       "23030     21.44      USD       59          30  false  None  ...   \n",
       "23031     21.57      USD       58          31  false  None  ...   \n",
       "23032     14.11      USD       60           6  false  None  ...   \n",
       "23033     13.56      USD       57          41  false  None  ...   \n",
       "\n",
       "                                               image_url  \\\n",
       "23029  https://imgaz1.chiccdn.com/thumb/view/oaupload...   \n",
       "23030  https://imgaz1.chiccdn.com/thumb/view/oaupload...   \n",
       "23031  https://imgaz1.chiccdn.com/thumb/view/oaupload...   \n",
       "23032  https://imgaz1.chiccdn.com/thumb/view/oaupload...   \n",
       "23033  https://imgaz1.chiccdn.com/thumb/view/oaupload...   \n",
       "\n",
       "                                                     url       id      model  \\\n",
       "23029  https://fr.newchic.com/mens-belts-4189/p-12645...  1264598  SKU859777   \n",
       "23030  https://fr.newchic.com/mens-belts-4189/p-11203...  1120322  SKU561702   \n",
       "23031  https://fr.newchic.com/mens-belts-4189/p-10655...  1065548  SKU415196   \n",
       "23032  https://fr.newchic.com/mens-belts-4189/p-16079...  1607924  SKUE01040   \n",
       "23033  https://fr.newchic.com/mens-belts-4189/p-99243...   992439  SKU270173   \n",
       "\n",
       "      avg_price_category avg_price_sub avg_discount_category  \\\n",
       "23029          12.151066     15.919894             50.757628   \n",
       "23030          12.151066     15.919894             50.757628   \n",
       "23031          12.151066     15.919894             50.757628   \n",
       "23032          12.151066     15.919894             50.757628   \n",
       "23033          12.151066     15.919894             50.757628   \n",
       "\n",
       "      avg_discount_subcategory avg_likes_category avg_likes_subcategory  \n",
       "23029                 49.46831          96.496068            121.429577  \n",
       "23030                 49.46831          96.496068            121.429577  \n",
       "23031                 49.46831          96.496068            121.429577  \n",
       "23032                 49.46831          96.496068            121.429577  \n",
       "23033                 49.46831          96.496068            121.429577  \n",
       "\n",
       "[5 rows x 28 columns]"
      ]
     },
     "execution_count": 19,
     "metadata": {},
     "output_type": "execute_result"
    }
   ],
   "source": [
    "df.toPandas().tail()"
   ]
  },
  {
   "cell_type": "code",
   "execution_count": 20,
   "id": "listed-acrobat",
   "metadata": {
    "ExecuteTime": {
     "end_time": "2023-02-04T14:54:59.596666Z",
     "start_time": "2023-02-04T14:54:59.587595Z"
    }
   },
   "outputs": [
    {
     "name": "stdout",
     "output_type": "stream",
     "text": [
      "root\n",
      " |-- category: string (nullable = true)\n",
      " |-- subcategory: string (nullable = true)\n",
      " |-- name: string (nullable = true)\n",
      " |-- current_price: string (nullable = true)\n",
      " |-- raw_price: string (nullable = true)\n",
      " |-- currency: string (nullable = true)\n",
      " |-- discount: string (nullable = true)\n",
      " |-- likes_count: string (nullable = true)\n",
      " |-- is_new: string (nullable = true)\n",
      " |-- brand: string (nullable = true)\n",
      " |-- brand_url: string (nullable = true)\n",
      " |-- codCountry: string (nullable = true)\n",
      " |-- variation_0_color: string (nullable = true)\n",
      " |-- variation_1_color: string (nullable = true)\n",
      " |-- variation_0_thumbnail: string (nullable = true)\n",
      " |-- variation_0_image: string (nullable = true)\n",
      " |-- variation_1_thumbnail: string (nullable = true)\n",
      " |-- variation_1_image: string (nullable = true)\n",
      " |-- image_url: string (nullable = true)\n",
      " |-- url: string (nullable = true)\n",
      " |-- id: string (nullable = true)\n",
      " |-- model: string (nullable = true)\n",
      " |-- avg_price_category: double (nullable = true)\n",
      " |-- avg_price_sub: double (nullable = true)\n",
      " |-- avg_discount_category: double (nullable = true)\n",
      " |-- avg_discount_subcategory: double (nullable = true)\n",
      " |-- avg_likes_category: double (nullable = true)\n",
      " |-- avg_likes_subcategory: double (nullable = true)\n",
      "\n"
     ]
    }
   ],
   "source": [
    "df.printSchema()"
   ]
  },
  {
   "cell_type": "markdown",
   "id": "chinese-square",
   "metadata": {
    "ExecuteTime": {
     "end_time": "2023-01-23T16:13:16.604716Z",
     "start_time": "2023-01-23T16:13:16.599773Z"
    }
   },
   "source": [
    "### Rank of the likes of each subcategory, dense rank of the likes of each subcategory,Rank of the discount of each category and dense rank of the likes of each category"
   ]
  },
  {
   "cell_type": "code",
   "execution_count": 21,
   "id": "convinced-allah",
   "metadata": {
    "ExecuteTime": {
     "end_time": "2023-02-04T14:54:59.875288Z",
     "start_time": "2023-02-04T14:54:59.602369Z"
    }
   },
   "outputs": [],
   "source": [
    "from pyspark.sql.functions import *\n",
    "from pyspark.sql.window import Window"
   ]
  },
  {
   "cell_type": "code",
   "execution_count": 22,
   "id": "changed-worthy",
   "metadata": {
    "ExecuteTime": {
     "end_time": "2023-02-04T14:55:00.952894Z",
     "start_time": "2023-02-04T14:54:59.880049Z"
    }
   },
   "outputs": [
    {
     "data": {
      "text/plain": [
       "DataFrame[category: string, subcategory: string, name: string, current_price: string, raw_price: string, currency: string, discount: string, likes_count: string, is_new: string, brand: string, brand_url: string, codCountry: string, variation_0_color: string, variation_1_color: string, variation_0_thumbnail: string, variation_0_image: string, variation_1_thumbnail: string, variation_1_image: string, image_url: string, url: string, id: string, model: string, avg_price_category: double, avg_price_sub: double, avg_discount_category: double, avg_discount_subcategory: double, avg_likes_category: double, avg_likes_subcategory: double, rank_likes_sub: int, dense_rank_likes_sub: int, rank_likes_cat: int, dense_rank_likes_cat: int, rank_discount_cat: int]"
      ]
     },
     "execution_count": 22,
     "metadata": {},
     "output_type": "execute_result"
    }
   ],
   "source": [
    "def Rank(df):\n",
    "    df = df.withColumn(\"rank_likes_sub\", rank().over(Window.partitionBy(\"subcategory\").orderBy(desc(\"likes_count\"))))\n",
    "    df = df.withColumn(\"dense_rank_likes_sub\", dense_rank().over(Window.partitionBy(\"subcategory\").orderBy(desc(\"likes_count\"))))\n",
    "    df = df.withColumn(\"rank_likes_cat\", rank().over(Window.partitionBy(\"category\").orderBy(desc(\"likes_count\"))))\n",
    "    df = df.withColumn(\"dense_rank_likes_cat\", dense_rank().over(Window.partitionBy(\"category\").orderBy(desc(\"likes_count\"))))\n",
    "    df = df.withColumn(\"rank_discount_cat\", rank().over(Window.partitionBy(\"category\").orderBy(desc(\"discount\"))))\n",
    "    df = df.withColumn(\"dense_rank_likes_cat\", dense_rank().over(Window.partitionBy(\"category\").orderBy(desc(\"likes_count\"))))\n",
    "    return df\n",
    "\n",
    "Rank(df)"
   ]
  },
  {
   "cell_type": "code",
   "execution_count": 23,
   "id": "healthy-egypt",
   "metadata": {
    "ExecuteTime": {
     "end_time": "2023-02-04T14:55:01.478695Z",
     "start_time": "2023-02-04T14:55:00.976102Z"
    }
   },
   "outputs": [],
   "source": [
    "df = Rank(df)"
   ]
  },
  {
   "cell_type": "code",
   "execution_count": 24,
   "id": "amber-flashing",
   "metadata": {
    "ExecuteTime": {
     "end_time": "2023-02-04T14:55:23.307658Z",
     "start_time": "2023-02-04T14:55:01.486746Z"
    }
   },
   "outputs": [
    {
     "data": {
      "text/html": [
       "<div>\n",
       "<style scoped>\n",
       "    .dataframe tbody tr th:only-of-type {\n",
       "        vertical-align: middle;\n",
       "    }\n",
       "\n",
       "    .dataframe tbody tr th {\n",
       "        vertical-align: top;\n",
       "    }\n",
       "\n",
       "    .dataframe thead th {\n",
       "        text-align: right;\n",
       "    }\n",
       "</style>\n",
       "<table border=\"1\" class=\"dataframe\">\n",
       "  <thead>\n",
       "    <tr style=\"text-align: right;\">\n",
       "      <th></th>\n",
       "      <th>category</th>\n",
       "      <th>subcategory</th>\n",
       "      <th>name</th>\n",
       "      <th>current_price</th>\n",
       "      <th>raw_price</th>\n",
       "      <th>currency</th>\n",
       "      <th>discount</th>\n",
       "      <th>likes_count</th>\n",
       "      <th>is_new</th>\n",
       "      <th>brand</th>\n",
       "      <th>...</th>\n",
       "      <th>avg_price_sub</th>\n",
       "      <th>avg_discount_category</th>\n",
       "      <th>avg_discount_subcategory</th>\n",
       "      <th>avg_likes_category</th>\n",
       "      <th>avg_likes_subcategory</th>\n",
       "      <th>rank_likes_sub</th>\n",
       "      <th>dense_rank_likes_sub</th>\n",
       "      <th>rank_likes_cat</th>\n",
       "      <th>dense_rank_likes_cat</th>\n",
       "      <th>rank_discount_cat</th>\n",
       "    </tr>\n",
       "  </thead>\n",
       "  <tbody>\n",
       "    <tr>\n",
       "      <th>23029</th>\n",
       "      <td>accessories</td>\n",
       "      <td>Baseball Caps</td>\n",
       "      <td>Casquette de baseball respirante en maille cro...</td>\n",
       "      <td>10.99</td>\n",
       "      <td>0</td>\n",
       "      <td>USD</td>\n",
       "      <td>0</td>\n",
       "      <td>0</td>\n",
       "      <td>true</td>\n",
       "      <td>None</td>\n",
       "      <td>...</td>\n",
       "      <td>11.959983</td>\n",
       "      <td>50.757628</td>\n",
       "      <td>48.262436</td>\n",
       "      <td>96.496068</td>\n",
       "      <td>70.831904</td>\n",
       "      <td>546</td>\n",
       "      <td>172</td>\n",
       "      <td>6230</td>\n",
       "      <td>577</td>\n",
       "      <td>6331</td>\n",
       "    </tr>\n",
       "    <tr>\n",
       "      <th>23030</th>\n",
       "      <td>accessories</td>\n",
       "      <td>Baseball Caps</td>\n",
       "      <td>Casquette de baseball respirante en maille cro...</td>\n",
       "      <td>10.99</td>\n",
       "      <td>0</td>\n",
       "      <td>USD</td>\n",
       "      <td>0</td>\n",
       "      <td>0</td>\n",
       "      <td>true</td>\n",
       "      <td>None</td>\n",
       "      <td>...</td>\n",
       "      <td>11.959983</td>\n",
       "      <td>50.757628</td>\n",
       "      <td>48.262436</td>\n",
       "      <td>96.496068</td>\n",
       "      <td>70.831904</td>\n",
       "      <td>546</td>\n",
       "      <td>172</td>\n",
       "      <td>6230</td>\n",
       "      <td>577</td>\n",
       "      <td>6331</td>\n",
       "    </tr>\n",
       "    <tr>\n",
       "      <th>23031</th>\n",
       "      <td>accessories</td>\n",
       "      <td>Baseball Caps</td>\n",
       "      <td>Casquette de baseball en maille respirante de ...</td>\n",
       "      <td>10.99</td>\n",
       "      <td>0</td>\n",
       "      <td>USD</td>\n",
       "      <td>0</td>\n",
       "      <td>0</td>\n",
       "      <td>true</td>\n",
       "      <td>None</td>\n",
       "      <td>...</td>\n",
       "      <td>11.959983</td>\n",
       "      <td>50.757628</td>\n",
       "      <td>48.262436</td>\n",
       "      <td>96.496068</td>\n",
       "      <td>70.831904</td>\n",
       "      <td>546</td>\n",
       "      <td>172</td>\n",
       "      <td>6230</td>\n",
       "      <td>577</td>\n",
       "      <td>6331</td>\n",
       "    </tr>\n",
       "    <tr>\n",
       "      <th>23032</th>\n",
       "      <td>accessories</td>\n",
       "      <td>Baseball Caps</td>\n",
       "      <td>Casquette de baseball évidée en denim délavé d...</td>\n",
       "      <td>10.99</td>\n",
       "      <td>0</td>\n",
       "      <td>USD</td>\n",
       "      <td>0</td>\n",
       "      <td>0</td>\n",
       "      <td>true</td>\n",
       "      <td>None</td>\n",
       "      <td>...</td>\n",
       "      <td>11.959983</td>\n",
       "      <td>50.757628</td>\n",
       "      <td>48.262436</td>\n",
       "      <td>96.496068</td>\n",
       "      <td>70.831904</td>\n",
       "      <td>546</td>\n",
       "      <td>172</td>\n",
       "      <td>6230</td>\n",
       "      <td>577</td>\n",
       "      <td>6331</td>\n",
       "    </tr>\n",
       "    <tr>\n",
       "      <th>23033</th>\n",
       "      <td>accessories</td>\n",
       "      <td>Baseball Caps</td>\n",
       "      <td>Chapeau de baseball chapeau de soleil en maill...</td>\n",
       "      <td>9.99</td>\n",
       "      <td>0</td>\n",
       "      <td>USD</td>\n",
       "      <td>0</td>\n",
       "      <td>0</td>\n",
       "      <td>true</td>\n",
       "      <td>None</td>\n",
       "      <td>...</td>\n",
       "      <td>11.959983</td>\n",
       "      <td>50.757628</td>\n",
       "      <td>48.262436</td>\n",
       "      <td>96.496068</td>\n",
       "      <td>70.831904</td>\n",
       "      <td>546</td>\n",
       "      <td>172</td>\n",
       "      <td>6230</td>\n",
       "      <td>577</td>\n",
       "      <td>6331</td>\n",
       "    </tr>\n",
       "  </tbody>\n",
       "</table>\n",
       "<p>5 rows × 33 columns</p>\n",
       "</div>"
      ],
      "text/plain": [
       "          category    subcategory  \\\n",
       "23029  accessories  Baseball Caps   \n",
       "23030  accessories  Baseball Caps   \n",
       "23031  accessories  Baseball Caps   \n",
       "23032  accessories  Baseball Caps   \n",
       "23033  accessories  Baseball Caps   \n",
       "\n",
       "                                                    name current_price  \\\n",
       "23029  Casquette de baseball respirante en maille cro...         10.99   \n",
       "23030  Casquette de baseball respirante en maille cro...         10.99   \n",
       "23031  Casquette de baseball en maille respirante de ...         10.99   \n",
       "23032  Casquette de baseball évidée en denim délavé d...         10.99   \n",
       "23033  Chapeau de baseball chapeau de soleil en maill...          9.99   \n",
       "\n",
       "      raw_price currency discount likes_count is_new brand  ... avg_price_sub  \\\n",
       "23029         0      USD        0           0   true  None  ...     11.959983   \n",
       "23030         0      USD        0           0   true  None  ...     11.959983   \n",
       "23031         0      USD        0           0   true  None  ...     11.959983   \n",
       "23032         0      USD        0           0   true  None  ...     11.959983   \n",
       "23033         0      USD        0           0   true  None  ...     11.959983   \n",
       "\n",
       "      avg_discount_category avg_discount_subcategory avg_likes_category  \\\n",
       "23029             50.757628                48.262436          96.496068   \n",
       "23030             50.757628                48.262436          96.496068   \n",
       "23031             50.757628                48.262436          96.496068   \n",
       "23032             50.757628                48.262436          96.496068   \n",
       "23033             50.757628                48.262436          96.496068   \n",
       "\n",
       "      avg_likes_subcategory rank_likes_sub dense_rank_likes_sub  \\\n",
       "23029             70.831904            546                  172   \n",
       "23030             70.831904            546                  172   \n",
       "23031             70.831904            546                  172   \n",
       "23032             70.831904            546                  172   \n",
       "23033             70.831904            546                  172   \n",
       "\n",
       "      rank_likes_cat dense_rank_likes_cat rank_discount_cat  \n",
       "23029           6230                  577              6331  \n",
       "23030           6230                  577              6331  \n",
       "23031           6230                  577              6331  \n",
       "23032           6230                  577              6331  \n",
       "23033           6230                  577              6331  \n",
       "\n",
       "[5 rows x 33 columns]"
      ]
     },
     "execution_count": 24,
     "metadata": {},
     "output_type": "execute_result"
    }
   ],
   "source": [
    "df.toPandas().tail()"
   ]
  },
  {
   "cell_type": "code",
   "execution_count": 25,
   "id": "reported-polish",
   "metadata": {
    "ExecuteTime": {
     "end_time": "2023-02-04T14:55:23.319840Z",
     "start_time": "2023-02-04T14:55:23.311208Z"
    }
   },
   "outputs": [
    {
     "name": "stdout",
     "output_type": "stream",
     "text": [
      "root\n",
      " |-- category: string (nullable = true)\n",
      " |-- subcategory: string (nullable = true)\n",
      " |-- name: string (nullable = true)\n",
      " |-- current_price: string (nullable = true)\n",
      " |-- raw_price: string (nullable = true)\n",
      " |-- currency: string (nullable = true)\n",
      " |-- discount: string (nullable = true)\n",
      " |-- likes_count: string (nullable = true)\n",
      " |-- is_new: string (nullable = true)\n",
      " |-- brand: string (nullable = true)\n",
      " |-- brand_url: string (nullable = true)\n",
      " |-- codCountry: string (nullable = true)\n",
      " |-- variation_0_color: string (nullable = true)\n",
      " |-- variation_1_color: string (nullable = true)\n",
      " |-- variation_0_thumbnail: string (nullable = true)\n",
      " |-- variation_0_image: string (nullable = true)\n",
      " |-- variation_1_thumbnail: string (nullable = true)\n",
      " |-- variation_1_image: string (nullable = true)\n",
      " |-- image_url: string (nullable = true)\n",
      " |-- url: string (nullable = true)\n",
      " |-- id: string (nullable = true)\n",
      " |-- model: string (nullable = true)\n",
      " |-- avg_price_category: double (nullable = true)\n",
      " |-- avg_price_sub: double (nullable = true)\n",
      " |-- avg_discount_category: double (nullable = true)\n",
      " |-- avg_discount_subcategory: double (nullable = true)\n",
      " |-- avg_likes_category: double (nullable = true)\n",
      " |-- avg_likes_subcategory: double (nullable = true)\n",
      " |-- rank_likes_sub: integer (nullable = true)\n",
      " |-- dense_rank_likes_sub: integer (nullable = true)\n",
      " |-- rank_likes_cat: integer (nullable = true)\n",
      " |-- dense_rank_likes_cat: integer (nullable = true)\n",
      " |-- rank_discount_cat: integer (nullable = true)\n",
      "\n"
     ]
    }
   ],
   "source": [
    "df.printSchema()"
   ]
  },
  {
   "cell_type": "markdown",
   "id": "preliminary-patrick",
   "metadata": {},
   "source": [
    "### sum of the unused products in each category (tip - first convert the feature isnew to numeric to be able to get the sum of the unused products) and sum of the unused products in subcategory "
   ]
  },
  {
   "cell_type": "code",
   "execution_count": 26,
   "id": "charged-opposition",
   "metadata": {
    "ExecuteTime": {
     "end_time": "2023-02-04T14:55:23.694083Z",
     "start_time": "2023-02-04T14:55:23.323961Z"
    }
   },
   "outputs": [],
   "source": [
    "from pyspark.sql import functions as fn"
   ]
  },
  {
   "cell_type": "code",
   "execution_count": 27,
   "id": "overall-decimal",
   "metadata": {
    "ExecuteTime": {
     "end_time": "2023-02-04T14:55:24.678059Z",
     "start_time": "2023-02-04T14:55:23.697974Z"
    }
   },
   "outputs": [
    {
     "data": {
      "text/plain": [
       "DataFrame[subcategory: string, category: string, name: string, current_price: string, raw_price: string, currency: string, discount: string, likes_count: string, is_new: string, brand: string, brand_url: string, codCountry: string, variation_0_color: string, variation_1_color: string, variation_0_thumbnail: string, variation_0_image: string, variation_1_thumbnail: string, variation_1_image: string, image_url: string, url: string, id: string, model: string, avg_price_category: double, avg_price_sub: double, avg_discount_category: double, avg_discount_subcategory: double, avg_likes_category: double, avg_likes_subcategory: double, rank_likes_sub: int, dense_rank_likes_sub: int, rank_likes_cat: int, dense_rank_likes_cat: int, rank_discount_cat: int, SUM_category: double, SUM_category: double]"
      ]
     },
     "execution_count": 27,
     "metadata": {},
     "output_type": "execute_result"
    }
   ],
   "source": [
    "def SUM(df):\n",
    "    x = df.groupBy(\"category\").agg(fn.round(fn.sum(\"is_new\")).alias(\"SUM_category\"))\n",
    "    y = df.groupBy(\"subcategory\").agg(fn.round(fn.sum(\"is_new\")).alias(\"SUM_category\"))\n",
    "    df = df.join(x,[\"category\"])\n",
    "    df = df.join(y,[\"subcategory\"])\n",
    "    return df\n",
    "SUM(df)"
   ]
  },
  {
   "cell_type": "code",
   "execution_count": 28,
   "id": "eight-boulder",
   "metadata": {
    "ExecuteTime": {
     "end_time": "2023-02-04T14:55:25.524509Z",
     "start_time": "2023-02-04T14:55:24.683165Z"
    }
   },
   "outputs": [],
   "source": [
    "df = SUM(df)"
   ]
  },
  {
   "cell_type": "code",
   "execution_count": 29,
   "id": "meaningful-contents",
   "metadata": {
    "ExecuteTime": {
     "end_time": "2023-02-04T14:55:52.643807Z",
     "start_time": "2023-02-04T14:55:25.529791Z"
    }
   },
   "outputs": [
    {
     "data": {
      "text/html": [
       "<div>\n",
       "<style scoped>\n",
       "    .dataframe tbody tr th:only-of-type {\n",
       "        vertical-align: middle;\n",
       "    }\n",
       "\n",
       "    .dataframe tbody tr th {\n",
       "        vertical-align: top;\n",
       "    }\n",
       "\n",
       "    .dataframe thead th {\n",
       "        text-align: right;\n",
       "    }\n",
       "</style>\n",
       "<table border=\"1\" class=\"dataframe\">\n",
       "  <thead>\n",
       "    <tr style=\"text-align: right;\">\n",
       "      <th></th>\n",
       "      <th>subcategory</th>\n",
       "      <th>category</th>\n",
       "      <th>name</th>\n",
       "      <th>current_price</th>\n",
       "      <th>raw_price</th>\n",
       "      <th>currency</th>\n",
       "      <th>discount</th>\n",
       "      <th>likes_count</th>\n",
       "      <th>is_new</th>\n",
       "      <th>brand</th>\n",
       "      <th>...</th>\n",
       "      <th>avg_discount_subcategory</th>\n",
       "      <th>avg_likes_category</th>\n",
       "      <th>avg_likes_subcategory</th>\n",
       "      <th>rank_likes_sub</th>\n",
       "      <th>dense_rank_likes_sub</th>\n",
       "      <th>rank_likes_cat</th>\n",
       "      <th>dense_rank_likes_cat</th>\n",
       "      <th>rank_discount_cat</th>\n",
       "      <th>SUM_category</th>\n",
       "      <th>SUM_category</th>\n",
       "    </tr>\n",
       "  </thead>\n",
       "  <tbody>\n",
       "    <tr>\n",
       "      <th>23029</th>\n",
       "      <td>Baseball Caps</td>\n",
       "      <td>accessories</td>\n",
       "      <td>Casquette de baseball respirante en maille cro...</td>\n",
       "      <td>10.99</td>\n",
       "      <td>0</td>\n",
       "      <td>USD</td>\n",
       "      <td>0</td>\n",
       "      <td>0</td>\n",
       "      <td>true</td>\n",
       "      <td>None</td>\n",
       "      <td>...</td>\n",
       "      <td>48.262436</td>\n",
       "      <td>96.496068</td>\n",
       "      <td>70.831904</td>\n",
       "      <td>546</td>\n",
       "      <td>172</td>\n",
       "      <td>6230</td>\n",
       "      <td>577</td>\n",
       "      <td>6331</td>\n",
       "      <td>NaN</td>\n",
       "      <td>NaN</td>\n",
       "    </tr>\n",
       "    <tr>\n",
       "      <th>23030</th>\n",
       "      <td>Baseball Caps</td>\n",
       "      <td>accessories</td>\n",
       "      <td>Casquette de baseball respirante en maille cro...</td>\n",
       "      <td>10.99</td>\n",
       "      <td>0</td>\n",
       "      <td>USD</td>\n",
       "      <td>0</td>\n",
       "      <td>0</td>\n",
       "      <td>true</td>\n",
       "      <td>None</td>\n",
       "      <td>...</td>\n",
       "      <td>48.262436</td>\n",
       "      <td>96.496068</td>\n",
       "      <td>70.831904</td>\n",
       "      <td>546</td>\n",
       "      <td>172</td>\n",
       "      <td>6230</td>\n",
       "      <td>577</td>\n",
       "      <td>6331</td>\n",
       "      <td>NaN</td>\n",
       "      <td>NaN</td>\n",
       "    </tr>\n",
       "    <tr>\n",
       "      <th>23031</th>\n",
       "      <td>Baseball Caps</td>\n",
       "      <td>accessories</td>\n",
       "      <td>Casquette de baseball en maille respirante de ...</td>\n",
       "      <td>10.99</td>\n",
       "      <td>0</td>\n",
       "      <td>USD</td>\n",
       "      <td>0</td>\n",
       "      <td>0</td>\n",
       "      <td>true</td>\n",
       "      <td>None</td>\n",
       "      <td>...</td>\n",
       "      <td>48.262436</td>\n",
       "      <td>96.496068</td>\n",
       "      <td>70.831904</td>\n",
       "      <td>546</td>\n",
       "      <td>172</td>\n",
       "      <td>6230</td>\n",
       "      <td>577</td>\n",
       "      <td>6331</td>\n",
       "      <td>NaN</td>\n",
       "      <td>NaN</td>\n",
       "    </tr>\n",
       "    <tr>\n",
       "      <th>23032</th>\n",
       "      <td>Baseball Caps</td>\n",
       "      <td>accessories</td>\n",
       "      <td>Casquette de baseball évidée en denim délavé d...</td>\n",
       "      <td>10.99</td>\n",
       "      <td>0</td>\n",
       "      <td>USD</td>\n",
       "      <td>0</td>\n",
       "      <td>0</td>\n",
       "      <td>true</td>\n",
       "      <td>None</td>\n",
       "      <td>...</td>\n",
       "      <td>48.262436</td>\n",
       "      <td>96.496068</td>\n",
       "      <td>70.831904</td>\n",
       "      <td>546</td>\n",
       "      <td>172</td>\n",
       "      <td>6230</td>\n",
       "      <td>577</td>\n",
       "      <td>6331</td>\n",
       "      <td>NaN</td>\n",
       "      <td>NaN</td>\n",
       "    </tr>\n",
       "    <tr>\n",
       "      <th>23033</th>\n",
       "      <td>Baseball Caps</td>\n",
       "      <td>accessories</td>\n",
       "      <td>Chapeau de baseball chapeau de soleil en maill...</td>\n",
       "      <td>9.99</td>\n",
       "      <td>0</td>\n",
       "      <td>USD</td>\n",
       "      <td>0</td>\n",
       "      <td>0</td>\n",
       "      <td>true</td>\n",
       "      <td>None</td>\n",
       "      <td>...</td>\n",
       "      <td>48.262436</td>\n",
       "      <td>96.496068</td>\n",
       "      <td>70.831904</td>\n",
       "      <td>546</td>\n",
       "      <td>172</td>\n",
       "      <td>6230</td>\n",
       "      <td>577</td>\n",
       "      <td>6331</td>\n",
       "      <td>NaN</td>\n",
       "      <td>NaN</td>\n",
       "    </tr>\n",
       "  </tbody>\n",
       "</table>\n",
       "<p>5 rows × 35 columns</p>\n",
       "</div>"
      ],
      "text/plain": [
       "         subcategory     category  \\\n",
       "23029  Baseball Caps  accessories   \n",
       "23030  Baseball Caps  accessories   \n",
       "23031  Baseball Caps  accessories   \n",
       "23032  Baseball Caps  accessories   \n",
       "23033  Baseball Caps  accessories   \n",
       "\n",
       "                                                    name current_price  \\\n",
       "23029  Casquette de baseball respirante en maille cro...         10.99   \n",
       "23030  Casquette de baseball respirante en maille cro...         10.99   \n",
       "23031  Casquette de baseball en maille respirante de ...         10.99   \n",
       "23032  Casquette de baseball évidée en denim délavé d...         10.99   \n",
       "23033  Chapeau de baseball chapeau de soleil en maill...          9.99   \n",
       "\n",
       "      raw_price currency discount likes_count is_new brand  ...  \\\n",
       "23029         0      USD        0           0   true  None  ...   \n",
       "23030         0      USD        0           0   true  None  ...   \n",
       "23031         0      USD        0           0   true  None  ...   \n",
       "23032         0      USD        0           0   true  None  ...   \n",
       "23033         0      USD        0           0   true  None  ...   \n",
       "\n",
       "      avg_discount_subcategory avg_likes_category avg_likes_subcategory  \\\n",
       "23029                48.262436          96.496068             70.831904   \n",
       "23030                48.262436          96.496068             70.831904   \n",
       "23031                48.262436          96.496068             70.831904   \n",
       "23032                48.262436          96.496068             70.831904   \n",
       "23033                48.262436          96.496068             70.831904   \n",
       "\n",
       "      rank_likes_sub dense_rank_likes_sub rank_likes_cat dense_rank_likes_cat  \\\n",
       "23029            546                  172           6230                  577   \n",
       "23030            546                  172           6230                  577   \n",
       "23031            546                  172           6230                  577   \n",
       "23032            546                  172           6230                  577   \n",
       "23033            546                  172           6230                  577   \n",
       "\n",
       "      rank_discount_cat SUM_category SUM_category  \n",
       "23029              6331          NaN          NaN  \n",
       "23030              6331          NaN          NaN  \n",
       "23031              6331          NaN          NaN  \n",
       "23032              6331          NaN          NaN  \n",
       "23033              6331          NaN          NaN  \n",
       "\n",
       "[5 rows x 35 columns]"
      ]
     },
     "execution_count": 29,
     "metadata": {},
     "output_type": "execute_result"
    }
   ],
   "source": [
    "df.toPandas().tail()"
   ]
  },
  {
   "cell_type": "code",
   "execution_count": 30,
   "id": "fifth-episode",
   "metadata": {
    "ExecuteTime": {
     "end_time": "2023-02-04T14:55:52.656519Z",
     "start_time": "2023-02-04T14:55:52.648208Z"
    }
   },
   "outputs": [
    {
     "name": "stdout",
     "output_type": "stream",
     "text": [
      "root\n",
      " |-- subcategory: string (nullable = true)\n",
      " |-- category: string (nullable = true)\n",
      " |-- name: string (nullable = true)\n",
      " |-- current_price: string (nullable = true)\n",
      " |-- raw_price: string (nullable = true)\n",
      " |-- currency: string (nullable = true)\n",
      " |-- discount: string (nullable = true)\n",
      " |-- likes_count: string (nullable = true)\n",
      " |-- is_new: string (nullable = true)\n",
      " |-- brand: string (nullable = true)\n",
      " |-- brand_url: string (nullable = true)\n",
      " |-- codCountry: string (nullable = true)\n",
      " |-- variation_0_color: string (nullable = true)\n",
      " |-- variation_1_color: string (nullable = true)\n",
      " |-- variation_0_thumbnail: string (nullable = true)\n",
      " |-- variation_0_image: string (nullable = true)\n",
      " |-- variation_1_thumbnail: string (nullable = true)\n",
      " |-- variation_1_image: string (nullable = true)\n",
      " |-- image_url: string (nullable = true)\n",
      " |-- url: string (nullable = true)\n",
      " |-- id: string (nullable = true)\n",
      " |-- model: string (nullable = true)\n",
      " |-- avg_price_category: double (nullable = true)\n",
      " |-- avg_price_sub: double (nullable = true)\n",
      " |-- avg_discount_category: double (nullable = true)\n",
      " |-- avg_discount_subcategory: double (nullable = true)\n",
      " |-- avg_likes_category: double (nullable = true)\n",
      " |-- avg_likes_subcategory: double (nullable = true)\n",
      " |-- rank_likes_sub: integer (nullable = true)\n",
      " |-- dense_rank_likes_sub: integer (nullable = true)\n",
      " |-- rank_likes_cat: integer (nullable = true)\n",
      " |-- dense_rank_likes_cat: integer (nullable = true)\n",
      " |-- rank_discount_cat: integer (nullable = true)\n",
      " |-- SUM_category: double (nullable = true)\n",
      " |-- SUM_category: double (nullable = true)\n",
      "\n"
     ]
    }
   ],
   "source": [
    "df.printSchema()"
   ]
  },
  {
   "cell_type": "markdown",
   "id": "instructional-treatment",
   "metadata": {},
   "source": [
    "## Analysis - Utilising the newly created features to answer some questions<br>For this taks use the dataframe API to answer the following questions"
   ]
  },
  {
   "cell_type": "markdown",
   "id": "daily-compiler",
   "metadata": {},
   "source": [
    "### Which type of product is the least popular with the users (tip - find the feature which demonstrates the popularity of a product)"
   ]
  },
  {
   "cell_type": "code",
   "execution_count": 31,
   "id": "contained-offer",
   "metadata": {
    "ExecuteTime": {
     "end_time": "2023-02-04T14:56:00.896464Z",
     "start_time": "2023-02-04T14:55:52.660481Z"
    }
   },
   "outputs": [
    {
     "name": "stdout",
     "output_type": "stream",
     "text": [
      "+-----------+-----------------------+\n",
      "|category   |min(avg_likes_category)|\n",
      "+-----------+-----------------------+\n",
      "|accessories|96.49606794589494      |\n",
      "|jewelry    |166.1458891407377      |\n",
      "|shoes      |284.0918548591728      |\n",
      "+-----------+-----------------------+\n",
      "\n"
     ]
    }
   ],
   "source": [
    "df.groupBy(\"category\").min(\"avg_likes_category\").sort('category', ascending=True).show(truncate=False)"
   ]
  },
  {
   "cell_type": "markdown",
   "id": "still-swiss",
   "metadata": {},
   "source": [
    "### Which type of product is the most popular with the users "
   ]
  },
  {
   "cell_type": "code",
   "execution_count": 32,
   "id": "dutch-contrary",
   "metadata": {
    "ExecuteTime": {
     "end_time": "2023-02-04T14:56:06.625558Z",
     "start_time": "2023-02-04T14:56:00.899723Z"
    }
   },
   "outputs": [
    {
     "name": "stdout",
     "output_type": "stream",
     "text": [
      "+-----------+-----------------------+\n",
      "|category   |min(avg_likes_category)|\n",
      "+-----------+-----------------------+\n",
      "|shoes      |284.0918548591728      |\n",
      "|jewelry    |166.1458891407377      |\n",
      "|accessories|96.49606794589494      |\n",
      "+-----------+-----------------------+\n",
      "\n"
     ]
    }
   ],
   "source": [
    "df.groupBy(\"category\").min(\"avg_likes_category\").sort('category', ascending=False).show(truncate=False)"
   ]
  },
  {
   "cell_type": "markdown",
   "id": "early-phone",
   "metadata": {},
   "source": [
    "### Which subcategory product is the most popular with the users"
   ]
  },
  {
   "cell_type": "code",
   "execution_count": 33,
   "id": "domestic-richards",
   "metadata": {
    "ExecuteTime": {
     "end_time": "2023-02-04T14:56:12.146055Z",
     "start_time": "2023-02-04T14:56:06.628641Z"
    }
   },
   "outputs": [
    {
     "name": "stdout",
     "output_type": "stream",
     "text": [
      "+----------------------+--------------------------+\n",
      "|subcategory           |max(avg_likes_subcategory)|\n",
      "+----------------------+--------------------------+\n",
      "|Escarpins             |519.8844086021505         |\n",
      "|Derbies & Mocassins   |497.7136591478697         |\n",
      "|Bottes & Bottines     |452.96699669966995        |\n",
      "|ACCESSOIRES CHAUSSURES|427.5217391304348         |\n",
      "|Bracelets de couple   |388.0                     |\n",
      "|Sandales & Mules      |381.47985074626865        |\n",
      "|Chaussures de jeunesse|364.0                     |\n",
      "|Fine Copper2          |335.0833333333333         |\n",
      "|Sneakers & Baskets    |293.22256728778467        |\n",
      "|Zinc Alloy            |289.3333333333333         |\n",
      "|Plateforme            |249.7948717948718         |\n",
      "|Bagues                |237.51752021563343        |\n",
      "|Claquettes & Tongs    |204.86772486772486        |\n",
      "|Bagues de couple      |198.83333333333334        |\n",
      "|Mocassins             |197.0093951849677         |\n",
      "|Colliers              |188.4848484848485         |\n",
      "|Boucles d'oreilles    |184.0638103919781         |\n",
      "|Bagues pour homme     |182.09333333333333        |\n",
      "|Montres de poche      |180.95652173913044        |\n",
      "|Chaussettes & Collants|177.5603015075377         |\n",
      "+----------------------+--------------------------+\n",
      "only showing top 20 rows\n",
      "\n"
     ]
    }
   ],
   "source": [
    "df.groupBy(\"subcategory\").max(\"avg_likes_subcategory\").sort('max(avg_likes_subcategory)', ascending=False).show(truncate=False)"
   ]
  },
  {
   "cell_type": "markdown",
   "id": "hourly-productivity",
   "metadata": {},
   "source": [
    "###  Which subcategory product is the least popular with the users"
   ]
  },
  {
   "cell_type": "code",
   "execution_count": 34,
   "id": "diverse-floor",
   "metadata": {
    "ExecuteTime": {
     "end_time": "2023-02-04T14:56:18.521075Z",
     "start_time": "2023-02-04T14:56:12.150090Z"
    }
   },
   "outputs": [
    {
     "name": "stdout",
     "output_type": "stream",
     "text": [
      "+--------------------------------------+--------------------------+\n",
      "|subcategory                           |min(avg_likes_subcategory)|\n",
      "+--------------------------------------+--------------------------+\n",
      "|Sun Protection Sleeve                 |6.054054054054054         |\n",
      "|Berets                                |12.0                      |\n",
      "|Military Hat                          |15.0                      |\n",
      "|CHAUSSURES HOMME                      |16.5                      |\n",
      "|Bijouterie                            |23.0                      |\n",
      "|Ipad Case                             |27.666666666666668        |\n",
      "|Slipper                               |30.45508982035928         |\n",
      "|Plate-formes                          |33.666666666666664        |\n",
      "|Cache-oreilles                        |35.375                    |\n",
      "|Montres en bague                      |44.0                      |\n",
      "|Voiles                                |47.44444444444444         |\n",
      "|Chapeaux & Bonnets                    |57.868367346938776        |\n",
      "|Fournitures de décoration pour mariage|58.417910447761194        |\n",
      "|Fleurs                                |58.53333333333333         |\n",
      "|Cravates & Noeuds Papillon            |59.853658536585364        |\n",
      "|Mascarade & Cosplay                   |59.888888888888886        |\n",
      "|Sandals                               |59.9873417721519          |\n",
      "|Men's Accessories                     |60.0                      |\n",
      "|Accessoires                           |61.55555555555556         |\n",
      "|Tech Accessories                      |61.72727272727273         |\n",
      "+--------------------------------------+--------------------------+\n",
      "only showing top 20 rows\n",
      "\n"
     ]
    }
   ],
   "source": [
    "df.groupBy(\"subcategory\").min(\"avg_likes_subcategory\").sort('min(avg_likes_subcategory)', ascending=True).show(truncate=False)"
   ]
  },
  {
   "cell_type": "markdown",
   "id": "timely-service",
   "metadata": {},
   "source": [
    "### In the accessory products, which subcategory was the most expensive"
   ]
  },
  {
   "cell_type": "code",
   "execution_count": 35,
   "id": "stopped-authorization",
   "metadata": {
    "ExecuteTime": {
     "end_time": "2023-02-04T14:56:23.264605Z",
     "start_time": "2023-02-04T14:56:18.524348Z"
    }
   },
   "outputs": [
    {
     "data": {
      "text/html": [
       "<div>\n",
       "<style scoped>\n",
       "    .dataframe tbody tr th:only-of-type {\n",
       "        vertical-align: middle;\n",
       "    }\n",
       "\n",
       "    .dataframe tbody tr th {\n",
       "        vertical-align: top;\n",
       "    }\n",
       "\n",
       "    .dataframe thead th {\n",
       "        text-align: right;\n",
       "    }\n",
       "</style>\n",
       "<table border=\"1\" class=\"dataframe\">\n",
       "  <thead>\n",
       "    <tr style=\"text-align: right;\">\n",
       "      <th></th>\n",
       "      <th>category</th>\n",
       "      <th>subcategory</th>\n",
       "      <th>raw_price</th>\n",
       "    </tr>\n",
       "  </thead>\n",
       "  <tbody>\n",
       "    <tr>\n",
       "      <th>0</th>\n",
       "      <td>accessories</td>\n",
       "      <td>Autres</td>\n",
       "      <td>9.86</td>\n",
       "    </tr>\n",
       "  </tbody>\n",
       "</table>\n",
       "</div>"
      ],
      "text/plain": [
       "      category subcategory raw_price\n",
       "0  accessories      Autres      9.86"
      ]
     },
     "execution_count": 35,
     "metadata": {},
     "output_type": "execute_result"
    }
   ],
   "source": [
    "df.select(\"category\",\"subcategory\",\"raw_price\").where((df.category == \"accessories\")).sort(\"subcategory\",col(\"raw_price\").desc()).limit(1).toPandas()"
   ]
  },
  {
   "cell_type": "markdown",
   "id": "geographic-investing",
   "metadata": {},
   "source": [
    "### Which type of product had the highest discount offerings"
   ]
  },
  {
   "cell_type": "code",
   "execution_count": 36,
   "id": "sharing-space",
   "metadata": {
    "ExecuteTime": {
     "end_time": "2023-02-04T14:56:46.102486Z",
     "start_time": "2023-02-04T14:56:23.272228Z"
    }
   },
   "outputs": [
    {
     "data": {
      "text/html": [
       "<div>\n",
       "<style scoped>\n",
       "    .dataframe tbody tr th:only-of-type {\n",
       "        vertical-align: middle;\n",
       "    }\n",
       "\n",
       "    .dataframe tbody tr th {\n",
       "        vertical-align: top;\n",
       "    }\n",
       "\n",
       "    .dataframe thead th {\n",
       "        text-align: right;\n",
       "    }\n",
       "</style>\n",
       "<table border=\"1\" class=\"dataframe\">\n",
       "  <thead>\n",
       "    <tr style=\"text-align: right;\">\n",
       "      <th></th>\n",
       "      <th>subcategory</th>\n",
       "      <th>category</th>\n",
       "      <th>name</th>\n",
       "      <th>current_price</th>\n",
       "      <th>raw_price</th>\n",
       "      <th>currency</th>\n",
       "      <th>discount</th>\n",
       "      <th>likes_count</th>\n",
       "      <th>is_new</th>\n",
       "      <th>brand</th>\n",
       "      <th>...</th>\n",
       "      <th>avg_discount_subcategory</th>\n",
       "      <th>avg_likes_category</th>\n",
       "      <th>avg_likes_subcategory</th>\n",
       "      <th>rank_likes_sub</th>\n",
       "      <th>dense_rank_likes_sub</th>\n",
       "      <th>rank_likes_cat</th>\n",
       "      <th>dense_rank_likes_cat</th>\n",
       "      <th>rank_discount_cat</th>\n",
       "      <th>SUM_category</th>\n",
       "      <th>SUM_category</th>\n",
       "    </tr>\n",
       "  </thead>\n",
       "  <tbody>\n",
       "    <tr>\n",
       "      <th>0</th>\n",
       "      <td>Sun Protection Sleeve</td>\n",
       "      <td>accessories</td>\n",
       "      <td>Imprimé Ice Silk Sleeve Sunscreen Mask Sunscre...</td>\n",
       "      <td>8.99</td>\n",
       "      <td>1099</td>\n",
       "      <td>USD</td>\n",
       "      <td>99</td>\n",
       "      <td>8</td>\n",
       "      <td>false</td>\n",
       "      <td>None</td>\n",
       "      <td>...</td>\n",
       "      <td>38.189189</td>\n",
       "      <td>96.496068</td>\n",
       "      <td>6.054054</td>\n",
       "      <td>2</td>\n",
       "      <td>2</td>\n",
       "      <td>506</td>\n",
       "      <td>45</td>\n",
       "      <td>1</td>\n",
       "      <td>NaN</td>\n",
       "      <td>NaN</td>\n",
       "    </tr>\n",
       "  </tbody>\n",
       "</table>\n",
       "<p>1 rows × 35 columns</p>\n",
       "</div>"
      ],
      "text/plain": [
       "             subcategory     category  \\\n",
       "0  Sun Protection Sleeve  accessories   \n",
       "\n",
       "                                                name current_price raw_price  \\\n",
       "0  Imprimé Ice Silk Sleeve Sunscreen Mask Sunscre...          8.99      1099   \n",
       "\n",
       "  currency discount likes_count is_new brand  ... avg_discount_subcategory  \\\n",
       "0      USD       99           8  false  None  ...                38.189189   \n",
       "\n",
       "  avg_likes_category avg_likes_subcategory rank_likes_sub  \\\n",
       "0          96.496068              6.054054              2   \n",
       "\n",
       "  dense_rank_likes_sub rank_likes_cat dense_rank_likes_cat rank_discount_cat  \\\n",
       "0                    2            506                   45                 1   \n",
       "\n",
       "  SUM_category SUM_category  \n",
       "0          NaN          NaN  \n",
       "\n",
       "[1 rows x 35 columns]"
      ]
     },
     "execution_count": 36,
     "metadata": {},
     "output_type": "execute_result"
    }
   ],
   "source": [
    "df.sort(\"category\",col(\"discount\").desc()).limit(1).toPandas()"
   ]
  },
  {
   "cell_type": "code",
   "execution_count": null,
   "id": "guilty-programming",
   "metadata": {},
   "outputs": [],
   "source": []
  },
  {
   "cell_type": "markdown",
   "id": "limiting-finding",
   "metadata": {},
   "source": [
    "### Which type of product had the lowest discount offerings"
   ]
  },
  {
   "cell_type": "code",
   "execution_count": 37,
   "id": "comparable-junction",
   "metadata": {
    "ExecuteTime": {
     "end_time": "2023-02-04T14:56:50.962670Z",
     "start_time": "2023-02-04T14:56:46.107888Z"
    }
   },
   "outputs": [
    {
     "name": "stdout",
     "output_type": "stream",
     "text": [
      "+-----------+--------------------------+\n",
      "|category   |min(avg_discount_category)|\n",
      "+-----------+--------------------------+\n",
      "|jewelry    |53.1318771893674          |\n",
      "|shoes      |53.04076799458682         |\n",
      "|accessories|50.75762818496383         |\n",
      "+-----------+--------------------------+\n",
      "\n"
     ]
    }
   ],
   "source": [
    "df.groupBy(\"category\").min(\"avg_discount_category\").show(truncate=False)\n"
   ]
  },
  {
   "cell_type": "markdown",
   "id": "small-health",
   "metadata": {},
   "source": [
    "### In the men's products, which subcategory was the most common."
   ]
  },
  {
   "cell_type": "code",
   "execution_count": 38,
   "id": "built-surfing",
   "metadata": {
    "ExecuteTime": {
     "end_time": "2023-02-04T14:56:53.672093Z",
     "start_time": "2023-02-04T14:56:50.967148Z"
    }
   },
   "outputs": [
    {
     "data": {
      "text/html": [
       "<div>\n",
       "<style scoped>\n",
       "    .dataframe tbody tr th:only-of-type {\n",
       "        vertical-align: middle;\n",
       "    }\n",
       "\n",
       "    .dataframe tbody tr th {\n",
       "        vertical-align: top;\n",
       "    }\n",
       "\n",
       "    .dataframe thead th {\n",
       "        text-align: right;\n",
       "    }\n",
       "</style>\n",
       "<table border=\"1\" class=\"dataframe\">\n",
       "  <thead>\n",
       "    <tr style=\"text-align: right;\">\n",
       "      <th></th>\n",
       "      <th>subcategory</th>\n",
       "      <th>likes_count</th>\n",
       "    </tr>\n",
       "  </thead>\n",
       "  <tbody>\n",
       "    <tr>\n",
       "      <th>0</th>\n",
       "      <td>ACCESSOIRES CHAUSSURES</td>\n",
       "      <td>99</td>\n",
       "    </tr>\n",
       "  </tbody>\n",
       "</table>\n",
       "</div>"
      ],
      "text/plain": [
       "              subcategory likes_count\n",
       "0  ACCESSOIRES CHAUSSURES          99"
      ]
     },
     "execution_count": 38,
     "metadata": {},
     "output_type": "execute_result"
    }
   ],
   "source": [
    "df.select(\"subcategory\",\"likes_count\").where((df.category == \"shoes\")).sort(\"subcategory\",col(\"likes_count\").desc()).limit(1).toPandas()"
   ]
  },
  {
   "cell_type": "code",
   "execution_count": null,
   "id": "completed-circuit",
   "metadata": {},
   "outputs": [],
   "source": []
  },
  {
   "cell_type": "markdown",
   "id": "higher-investor",
   "metadata": {},
   "source": [
    "### Which type of product had the most unused products listed for sale"
   ]
  },
  {
   "cell_type": "code",
   "execution_count": 39,
   "id": "generic-variety",
   "metadata": {
    "ExecuteTime": {
     "end_time": "2023-02-04T14:56:57.679533Z",
     "start_time": "2023-02-04T14:56:53.688126Z"
    }
   },
   "outputs": [
    {
     "name": "stdout",
     "output_type": "stream",
     "text": [
      "+-----------+-----------------------+\n",
      "|category   |min(avg_likes_category)|\n",
      "+-----------+-----------------------+\n",
      "|accessories|96.49606794589494      |\n",
      "|jewelry    |166.1458891407377      |\n",
      "|shoes      |284.0918548591728      |\n",
      "+-----------+-----------------------+\n",
      "\n"
     ]
    }
   ],
   "source": [
    "df.groupBy(\"category\").min(\"avg_likes_category\").sort('category').show(truncate=False)\n"
   ]
  },
  {
   "cell_type": "markdown",
   "id": "official-commons",
   "metadata": {},
   "source": [
    "### Which subcategory product  had the most unused products listed for sale"
   ]
  },
  {
   "cell_type": "code",
   "execution_count": 40,
   "id": "delayed-motel",
   "metadata": {
    "ExecuteTime": {
     "end_time": "2023-02-04T14:57:01.953905Z",
     "start_time": "2023-02-04T14:56:57.683859Z"
    }
   },
   "outputs": [
    {
     "name": "stdout",
     "output_type": "stream",
     "text": [
      "+-----------------------------+--------------------------+\n",
      "|subcategory                  |min(avg_likes_subcategory)|\n",
      "+-----------------------------+--------------------------+\n",
      "|ACCESSOIRES CHAUSSURES       |427.5217391304348         |\n",
      "|Accessoires                  |61.55555555555556         |\n",
      "|Accessoires des cheveux      |153.2027027027027         |\n",
      "|Autres                       |149.6                     |\n",
      "|Bagues                       |237.51752021563343        |\n",
      "|Bagues de couple             |198.83333333333334        |\n",
      "|Bagues pour homme            |182.09333333333333        |\n",
      "|Baseball Caps                |70.83190394511149         |\n",
      "|Baskets                      |89.13581183611532         |\n",
      "|Beanie Hat                   |133.60387811634348        |\n",
      "|Berets                       |12.0                      |\n",
      "|Bijouterie                   |23.0                      |\n",
      "|Bijouterie DIY               |128.07142857142858        |\n",
      "|Bijoux de corps              |117.83720930232558        |\n",
      "|Bottes                       |169.0                     |\n",
      "|Bottes & Bottines            |452.96699669966995        |\n",
      "|Bottes & Chaussures montantes|175.77902097902097        |\n",
      "|Boucles d'oreilles           |184.0638103919781         |\n",
      "|Boucles d'oreilles pour homme|113.5                     |\n",
      "|Boutons de manchettes        |115.4375                  |\n",
      "+-----------------------------+--------------------------+\n",
      "only showing top 20 rows\n",
      "\n"
     ]
    }
   ],
   "source": [
    "df.groupBy(\"subcategory\").min(\"avg_likes_subcategory\").sort('subcategory').show(truncate=False)\n"
   ]
  },
  {
   "cell_type": "code",
   "execution_count": null,
   "id": "tamil-package",
   "metadata": {},
   "outputs": [],
   "source": []
  }
 ],
 "metadata": {
  "kernelspec": {
   "display_name": "Python 3",
   "language": "python",
   "name": "python3"
  },
  "language_info": {
   "codemirror_mode": {
    "name": "ipython",
    "version": 3
   },
   "file_extension": ".py",
   "mimetype": "text/x-python",
   "name": "python",
   "nbconvert_exporter": "python",
   "pygments_lexer": "ipython3",
   "version": "3.8.8"
  },
  "toc": {
   "base_numbering": 1,
   "nav_menu": {},
   "number_sections": true,
   "sideBar": true,
   "skip_h1_title": false,
   "title_cell": "Table of Contents",
   "title_sidebar": "Contents",
   "toc_cell": false,
   "toc_position": {},
   "toc_section_display": true,
   "toc_window_display": false
  }
 },
 "nbformat": 4,
 "nbformat_minor": 5
}
